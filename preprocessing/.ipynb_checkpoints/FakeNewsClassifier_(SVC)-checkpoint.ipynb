{
 "cells": [
  {
   "cell_type": "markdown",
   "metadata": {
    "id": "V04Ozu4EGJz6"
   },
   "source": [
    "#Link to google colab notebook\n",
    "https://colab.research.google.com/drive/1ZzcvEcBzFBH9Y-4V4kHY6_hvOMnxqk6f?usp=sharing"
   ]
  },
  {
   "cell_type": "code",
   "execution_count": 21,
   "metadata": {
    "executionInfo": {
     "elapsed": 280,
     "status": "ok",
     "timestamp": 1716178723043,
     "user": {
      "displayName": "Ron Cedric Geronimo",
      "userId": "17390711111477461960"
     },
     "user_tz": -480
    },
    "id": "ouxM7VoHDP0L"
   },
   "outputs": [],
   "source": [
    "#import libraries\n",
    "import pandas as pd\n",
    "import numpy as np\n",
    "from sklearn.model_selection import train_test_split\n",
    "from sklearn.metrics import confusion_matrix, accuracy_score, classification_report\n",
    "from sklearn.svm import SVC\n",
    "from sklearn.model_selection import train_test_split\n",
    "#import nltk\n",
    "import nltk\n",
    "from nltk.sentiment.vader import SentimentIntensityAnalyzer\n",
    "from nltk.stem import WordNetLemmatizer\n",
    "from nltk.stem.porter import PorterStemmer\n",
    "from nltk.corpus import stopwords\n",
    "from nltk.tokenize import word_tokenize\n",
    "lm = nltk.WordNetLemmatizer()\n",
    "stemmer = PorterStemmer()\n",
    "#import regex\n",
    "import re\n",
    "import pickle"
   ]
  },
  {
   "cell_type": "code",
   "execution_count": 2,
   "metadata": {
    "colab": {
     "base_uri": "https://localhost:8080/"
    },
    "executionInfo": {
     "elapsed": 262,
     "status": "ok",
     "timestamp": 1716178808085,
     "user": {
      "displayName": "Ron Cedric Geronimo",
      "userId": "17390711111477461960"
     },
     "user_tz": -480
    },
    "id": "SaMGXZHAMTE6",
    "outputId": "415ed56b-4b64-4886-ca77-c512a4ecb562"
   },
   "outputs": [
    {
     "name": "stderr",
     "output_type": "stream",
     "text": [
      "[nltk_data] Downloading package stopwords to\n",
      "[nltk_data]     C:\\Users\\ram_o\\AppData\\Roaming\\nltk_data...\n",
      "[nltk_data]   Package stopwords is already up-to-date!\n",
      "[nltk_data] Downloading package punkt to\n",
      "[nltk_data]     C:\\Users\\ram_o\\AppData\\Roaming\\nltk_data...\n",
      "[nltk_data]   Package punkt is already up-to-date!\n",
      "[nltk_data] Downloading package wordnet to\n",
      "[nltk_data]     C:\\Users\\ram_o\\AppData\\Roaming\\nltk_data...\n",
      "[nltk_data]   Package wordnet is already up-to-date!\n"
     ]
    },
    {
     "data": {
      "text/plain": [
       "True"
      ]
     },
     "execution_count": 2,
     "metadata": {},
     "output_type": "execute_result"
    }
   ],
   "source": [
    "nltk.download('stopwords')\n",
    "nltk.download('punkt')\n",
    "nltk.download('wordnet')"
   ]
  },
  {
   "cell_type": "code",
   "execution_count": 3,
   "metadata": {
    "colab": {
     "base_uri": "https://localhost:8080/",
     "height": 1000
    },
    "executionInfo": {
     "elapsed": 1221,
     "status": "ok",
     "timestamp": 1716178377722,
     "user": {
      "displayName": "Ron Cedric Geronimo",
      "userId": "17390711111477461960"
     },
     "user_tz": -480
    },
    "id": "WN7rDby1EyWt",
    "outputId": "b91aa7a9-14c6-46b1-a5ec-b61e03ecf2a1"
   },
   "outputs": [
    {
     "data": {
      "text/html": [
       "<div>\n",
       "<style scoped>\n",
       "    .dataframe tbody tr th:only-of-type {\n",
       "        vertical-align: middle;\n",
       "    }\n",
       "\n",
       "    .dataframe tbody tr th {\n",
       "        vertical-align: top;\n",
       "    }\n",
       "\n",
       "    .dataframe thead th {\n",
       "        text-align: right;\n",
       "    }\n",
       "</style>\n",
       "<table border=\"1\" class=\"dataframe\">\n",
       "  <thead>\n",
       "    <tr style=\"text-align: right;\">\n",
       "      <th></th>\n",
       "      <th>Headline</th>\n",
       "      <th>Content</th>\n",
       "      <th>Authors</th>\n",
       "      <th>Date</th>\n",
       "      <th>URL</th>\n",
       "      <th>Brand</th>\n",
       "      <th>Label</th>\n",
       "    </tr>\n",
       "  </thead>\n",
       "  <tbody>\n",
       "    <tr>\n",
       "      <th>0</th>\n",
       "      <td>PH ranks 2nd in Asia-Pacific in deaths due to ...</td>\n",
       "      <td>Pollution caused by traditional cooking fuel i...</td>\n",
       "      <td>['Philippine Daily Inquirer']</td>\n",
       "      <td>NaN</td>\n",
       "      <td>https://newsinfo.inquirer.net/987262/ph-ranks-...</td>\n",
       "      <td>Inquirer</td>\n",
       "      <td>Credible</td>\n",
       "    </tr>\n",
       "    <tr>\n",
       "      <th>1</th>\n",
       "      <td>Aguirre, PCSO chief deny plotting to kill ‘Ato...</td>\n",
       "      <td>Justice Secretary Vitaliano Aguirre 2nd and Ph...</td>\n",
       "      <td>['Jomar Canlas']</td>\n",
       "      <td>2017-04-28 20:12:54+00:00</td>\n",
       "      <td>https://www.manilatimes.net/aguirre-pcso-chief...</td>\n",
       "      <td>Manila Times</td>\n",
       "      <td>Credible</td>\n",
       "    </tr>\n",
       "    <tr>\n",
       "      <th>2</th>\n",
       "      <td>Duterte says charges vs ex-President will fail</td>\n",
       "      <td>President Rodrigo Duterte on Monday night desc...</td>\n",
       "      <td>['Christine O. Avendaño']</td>\n",
       "      <td>NaN</td>\n",
       "      <td>https://newsinfo.inquirer.net/914727/duterte-s...</td>\n",
       "      <td>Inquirer</td>\n",
       "      <td>Credible</td>\n",
       "    </tr>\n",
       "    <tr>\n",
       "      <th>3</th>\n",
       "      <td>Group warns BFAR on law enforcement fund</td>\n",
       "      <td>THE militant fisher folk group Pambansang Laka...</td>\n",
       "      <td>['Neil Alcober']</td>\n",
       "      <td>2017-08-12 19:54:48+00:00</td>\n",
       "      <td>https://www.manilatimes.net/group-warns-bfar-l...</td>\n",
       "      <td>Manila Times</td>\n",
       "      <td>Credible</td>\n",
       "    </tr>\n",
       "    <tr>\n",
       "      <th>4</th>\n",
       "      <td>Solon asks Duterte for jet ski to Panatag</td>\n",
       "      <td>Magdalo Rep. Gary Alejano is willing to lead t...</td>\n",
       "      <td>['Dj Yap']</td>\n",
       "      <td>NaN</td>\n",
       "      <td>https://newsinfo.inquirer.net/882744/solon-ask...</td>\n",
       "      <td>Inquirer</td>\n",
       "      <td>Credible</td>\n",
       "    </tr>\n",
       "    <tr>\n",
       "      <th>...</th>\n",
       "      <td>...</td>\n",
       "      <td>...</td>\n",
       "      <td>...</td>\n",
       "      <td>...</td>\n",
       "      <td>...</td>\n",
       "      <td>...</td>\n",
       "      <td>...</td>\n",
       "    </tr>\n",
       "    <tr>\n",
       "      <th>22453</th>\n",
       "      <td>Philippine Elections 2016 is not a vote for Du...</td>\n",
       "      <td>Indeed, everybody is shocked — just shocked! —...</td>\n",
       "      <td>[]</td>\n",
       "      <td>2016-04-28 05:35:44+00:00</td>\n",
       "      <td>https://www.getrealphilippines.com/2016/04/phi...</td>\n",
       "      <td>Get Real Philippines</td>\n",
       "      <td>Not Credible</td>\n",
       "    </tr>\n",
       "    <tr>\n",
       "      <th>22454</th>\n",
       "      <td>28,000 families affected by floods receive aid</td>\n",
       "      <td>A TOTAL of 132,259 individuals from 28,101 fam...</td>\n",
       "      <td>['Mary Gleefer F. Jalea']</td>\n",
       "      <td>2018-08-15 00:03:17+00:00</td>\n",
       "      <td>https://www.manilatimes.net/28000-families-aff...</td>\n",
       "      <td>Manila Times</td>\n",
       "      <td>Credible</td>\n",
       "    </tr>\n",
       "    <tr>\n",
       "      <th>22455</th>\n",
       "      <td>Singer Jim Paredes Miffed That He Wasn’t Invit...</td>\n",
       "      <td>Shortly after Rod Duterte announced there will...</td>\n",
       "      <td>['Pol Pinoy']</td>\n",
       "      <td>2016-06-16 00:00:00</td>\n",
       "      <td>https://adobochronicles.com/2016/06/16/singer-...</td>\n",
       "      <td>Adobo Chronicles</td>\n",
       "      <td>Not Credible</td>\n",
       "    </tr>\n",
       "    <tr>\n",
       "      <th>22456</th>\n",
       "      <td>POPE FRANCIS SCOLDS PRESIDENT OBAMA</td>\n",
       "      <td>President Barack Obama met for the first time ...</td>\n",
       "      <td>['Pol Pinoy']</td>\n",
       "      <td>2017-03-27 00:00:00</td>\n",
       "      <td>https://adobochronicles.com/2014/03/27/pope-fr...</td>\n",
       "      <td>Adobo Chronicles</td>\n",
       "      <td>Not Credible</td>\n",
       "    </tr>\n",
       "    <tr>\n",
       "      <th>22457</th>\n",
       "      <td>UNITED AIRLINES WILL OFFER ‘ECONOMY MINUS’ SEA...</td>\n",
       "      <td>for half the airfare.UNITED Airlines (UAL) sta...</td>\n",
       "      <td>['Pol Pinoy']</td>\n",
       "      <td>2018-01-05 00:00:00</td>\n",
       "      <td>https://adobochronicles.com/2015/01/05/united-...</td>\n",
       "      <td>Adobo Chronicles</td>\n",
       "      <td>Not Credible</td>\n",
       "    </tr>\n",
       "  </tbody>\n",
       "</table>\n",
       "<p>22458 rows × 7 columns</p>\n",
       "</div>"
      ],
      "text/plain": [
       "                                                Headline  \\\n",
       "0      PH ranks 2nd in Asia-Pacific in deaths due to ...   \n",
       "1      Aguirre, PCSO chief deny plotting to kill ‘Ato...   \n",
       "2         Duterte says charges vs ex-President will fail   \n",
       "3               Group warns BFAR on law enforcement fund   \n",
       "4              Solon asks Duterte for jet ski to Panatag   \n",
       "...                                                  ...   \n",
       "22453  Philippine Elections 2016 is not a vote for Du...   \n",
       "22454     28,000 families affected by floods receive aid   \n",
       "22455  Singer Jim Paredes Miffed That He Wasn’t Invit...   \n",
       "22456                POPE FRANCIS SCOLDS PRESIDENT OBAMA   \n",
       "22457  UNITED AIRLINES WILL OFFER ‘ECONOMY MINUS’ SEA...   \n",
       "\n",
       "                                                 Content  \\\n",
       "0      Pollution caused by traditional cooking fuel i...   \n",
       "1      Justice Secretary Vitaliano Aguirre 2nd and Ph...   \n",
       "2      President Rodrigo Duterte on Monday night desc...   \n",
       "3      THE militant fisher folk group Pambansang Laka...   \n",
       "4      Magdalo Rep. Gary Alejano is willing to lead t...   \n",
       "...                                                  ...   \n",
       "22453  Indeed, everybody is shocked — just shocked! —...   \n",
       "22454  A TOTAL of 132,259 individuals from 28,101 fam...   \n",
       "22455  Shortly after Rod Duterte announced there will...   \n",
       "22456  President Barack Obama met for the first time ...   \n",
       "22457  for half the airfare.UNITED Airlines (UAL) sta...   \n",
       "\n",
       "                             Authors                       Date  \\\n",
       "0      ['Philippine Daily Inquirer']                        NaN   \n",
       "1                   ['Jomar Canlas']  2017-04-28 20:12:54+00:00   \n",
       "2          ['Christine O. Avendaño']                        NaN   \n",
       "3                   ['Neil Alcober']  2017-08-12 19:54:48+00:00   \n",
       "4                         ['Dj Yap']                        NaN   \n",
       "...                              ...                        ...   \n",
       "22453                             []  2016-04-28 05:35:44+00:00   \n",
       "22454      ['Mary Gleefer F. Jalea']  2018-08-15 00:03:17+00:00   \n",
       "22455                  ['Pol Pinoy']        2016-06-16 00:00:00   \n",
       "22456                  ['Pol Pinoy']        2017-03-27 00:00:00   \n",
       "22457                  ['Pol Pinoy']        2018-01-05 00:00:00   \n",
       "\n",
       "                                                     URL  \\\n",
       "0      https://newsinfo.inquirer.net/987262/ph-ranks-...   \n",
       "1      https://www.manilatimes.net/aguirre-pcso-chief...   \n",
       "2      https://newsinfo.inquirer.net/914727/duterte-s...   \n",
       "3      https://www.manilatimes.net/group-warns-bfar-l...   \n",
       "4      https://newsinfo.inquirer.net/882744/solon-ask...   \n",
       "...                                                  ...   \n",
       "22453  https://www.getrealphilippines.com/2016/04/phi...   \n",
       "22454  https://www.manilatimes.net/28000-families-aff...   \n",
       "22455  https://adobochronicles.com/2016/06/16/singer-...   \n",
       "22456  https://adobochronicles.com/2014/03/27/pope-fr...   \n",
       "22457  https://adobochronicles.com/2015/01/05/united-...   \n",
       "\n",
       "                      Brand         Label  \n",
       "0                  Inquirer      Credible  \n",
       "1              Manila Times      Credible  \n",
       "2                  Inquirer      Credible  \n",
       "3              Manila Times      Credible  \n",
       "4                  Inquirer      Credible  \n",
       "...                     ...           ...  \n",
       "22453  Get Real Philippines  Not Credible  \n",
       "22454          Manila Times      Credible  \n",
       "22455      Adobo Chronicles  Not Credible  \n",
       "22456      Adobo Chronicles  Not Credible  \n",
       "22457      Adobo Chronicles  Not Credible  \n",
       "\n",
       "[22458 rows x 7 columns]"
      ]
     },
     "execution_count": 3,
     "metadata": {},
     "output_type": "execute_result"
    }
   ],
   "source": [
    "# importing Dataset\n",
    "df = pd.read_csv(\"Philippine Fake News Corpus.csv\")\n",
    "df"
   ]
  },
  {
   "cell_type": "markdown",
   "metadata": {
    "id": "xMyScYKQWG7t"
   },
   "source": [
    "<h1>Defining Functions</h1>"
   ]
  },
  {
   "cell_type": "code",
   "execution_count": 4,
   "metadata": {
    "executionInfo": {
     "elapsed": 309,
     "status": "ok",
     "timestamp": 1716178138827,
     "user": {
      "displayName": "Ron Cedric Geronimo",
      "userId": "17390711111477461960"
     },
     "user_tz": -480
    },
    "id": "H-IwxjiyWG7t"
   },
   "outputs": [],
   "source": [
    "def lower_case(text):\n",
    "\n",
    "    text = text.lower()\n",
    "\n",
    "    return text"
   ]
  },
  {
   "cell_type": "code",
   "execution_count": 5,
   "metadata": {
    "executionInfo": {
     "elapsed": 322,
     "status": "ok",
     "timestamp": 1716178140419,
     "user": {
      "displayName": "Ron Cedric Geronimo",
      "userId": "17390711111477461960"
     },
     "user_tz": -480
    },
    "id": "4hicMxC8WG7t"
   },
   "outputs": [],
   "source": [
    "def stop_words(text):\n",
    "\n",
    "    stop_words = set(stopwords.words('english'))\n",
    "    tokens = word_tokenize(text)\n",
    "    text = ' '.join([word for word in tokens if word.lower() not in stop_words])\n",
    "\n",
    "    return text"
   ]
  },
  {
   "cell_type": "code",
   "execution_count": 6,
   "metadata": {
    "executionInfo": {
     "elapsed": 2,
     "status": "ok",
     "timestamp": 1716178141633,
     "user": {
      "displayName": "Ron Cedric Geronimo",
      "userId": "17390711111477461960"
     },
     "user_tz": -480
    },
    "id": "08HBlAtqWG7u"
   },
   "outputs": [],
   "source": [
    "def special_text(text):\n",
    "\n",
    "    text = re.sub(r'[^\\w\\s]', '', text)\n",
    "\n",
    "    return text"
   ]
  },
  {
   "cell_type": "code",
   "execution_count": 7,
   "metadata": {
    "executionInfo": {
     "elapsed": 1,
     "status": "ok",
     "timestamp": 1716178142556,
     "user": {
      "displayName": "Ron Cedric Geronimo",
      "userId": "17390711111477461960"
     },
     "user_tz": -480
    },
    "id": "NA1JjEcjWG7v"
   },
   "outputs": [],
   "source": [
    "def preprocess_text(text):\n",
    "\n",
    "    text = lower_case(text)\n",
    "    text = stop_words(text)\n",
    "    text = special_text(text)\n",
    "\n",
    "\n",
    "    return text"
   ]
  },
  {
   "cell_type": "code",
   "execution_count": 8,
   "metadata": {
    "executionInfo": {
     "elapsed": 4,
     "status": "ok",
     "timestamp": 1716178143588,
     "user": {
      "displayName": "Ron Cedric Geronimo",
      "userId": "17390711111477461960"
     },
     "user_tz": -480
    },
    "id": "goyI_-gLWG7w"
   },
   "outputs": [],
   "source": [
    "def lemmatizer_on_text(data):\n",
    "\n",
    "    text = [lm.lemmatize(word) for word in data]\n",
    "\n",
    "    return data"
   ]
  },
  {
   "cell_type": "code",
   "execution_count": 9,
   "metadata": {
    "executionInfo": {
     "elapsed": 1,
     "status": "ok",
     "timestamp": 1716178144687,
     "user": {
      "displayName": "Ron Cedric Geronimo",
      "userId": "17390711111477461960"
     },
     "user_tz": -480
    },
    "id": "LNl-xxbfHsu7"
   },
   "outputs": [],
   "source": [
    "def stem_words(text):\n",
    "    word_tokens = text.split()\n",
    "    stems = [stemmer.stem(word) for word in word_tokens]\n",
    "    return stems"
   ]
  },
  {
   "cell_type": "markdown",
   "metadata": {
    "id": "S8R96dwbWG7x"
   },
   "source": [
    "<h1>Cleaning Text</h1>"
   ]
  },
  {
   "cell_type": "code",
   "execution_count": 10,
   "metadata": {
    "executionInfo": {
     "elapsed": 8076,
     "status": "ok",
     "timestamp": 1716178734816,
     "user": {
      "displayName": "Ron Cedric Geronimo",
      "userId": "17390711111477461960"
     },
     "user_tz": -480
    },
    "id": "MEtl1wVYWG7x"
   },
   "outputs": [],
   "source": [
    "df['Clean Text'] = df['Headline'].apply(preprocess_text)"
   ]
  },
  {
   "cell_type": "code",
   "execution_count": 11,
   "metadata": {
    "executionInfo": {
     "elapsed": 10413,
     "status": "ok",
     "timestamp": 1716178822015,
     "user": {
      "displayName": "Ron Cedric Geronimo",
      "userId": "17390711111477461960"
     },
     "user_tz": -480
    },
    "id": "dTxuc_tZH4E8"
   },
   "outputs": [],
   "source": [
    "df['Clean Text'] = df['Clean Text'].apply(lambda x: lemmatizer_on_text(x))\n",
    "df['Clean Text'] = df['Clean Text'].apply(lambda x: stem_words(x))"
   ]
  },
  {
   "cell_type": "code",
   "execution_count": 12,
   "metadata": {
    "colab": {
     "base_uri": "https://localhost:8080/",
     "height": 356
    },
    "executionInfo": {
     "elapsed": 286,
     "status": "error",
     "timestamp": 1716179084727,
     "user": {
      "displayName": "Ron Cedric Geronimo",
      "userId": "17390711111477461960"
     },
     "user_tz": -480
    },
    "id": "zVR-rOmCEq_k",
    "outputId": "7b987021-a883-42a0-97dc-dc7308b230d4"
   },
   "outputs": [
    {
     "data": {
      "text/html": [
       "<div>\n",
       "<style scoped>\n",
       "    .dataframe tbody tr th:only-of-type {\n",
       "        vertical-align: middle;\n",
       "    }\n",
       "\n",
       "    .dataframe tbody tr th {\n",
       "        vertical-align: top;\n",
       "    }\n",
       "\n",
       "    .dataframe thead th {\n",
       "        text-align: right;\n",
       "    }\n",
       "</style>\n",
       "<table border=\"1\" class=\"dataframe\">\n",
       "  <thead>\n",
       "    <tr style=\"text-align: right;\">\n",
       "      <th></th>\n",
       "      <th>Headline</th>\n",
       "      <th>Label</th>\n",
       "      <th>Clean Text</th>\n",
       "    </tr>\n",
       "  </thead>\n",
       "  <tbody>\n",
       "    <tr>\n",
       "      <th>0</th>\n",
       "      <td>PH ranks 2nd in Asia-Pacific in deaths due to ...</td>\n",
       "      <td>Credible</td>\n",
       "      <td>[ph, rank, 2nd, asiapacif, death, due, househo...</td>\n",
       "    </tr>\n",
       "    <tr>\n",
       "      <th>1</th>\n",
       "      <td>Aguirre, PCSO chief deny plotting to kill ‘Ato...</td>\n",
       "      <td>Credible</td>\n",
       "      <td>[aguirr, pcso, chief, deni, plot, kill, atong,...</td>\n",
       "    </tr>\n",
       "    <tr>\n",
       "      <th>2</th>\n",
       "      <td>Duterte says charges vs ex-President will fail</td>\n",
       "      <td>Credible</td>\n",
       "      <td>[dutert, say, charg, vs, expresid, fail]</td>\n",
       "    </tr>\n",
       "    <tr>\n",
       "      <th>3</th>\n",
       "      <td>Group warns BFAR on law enforcement fund</td>\n",
       "      <td>Credible</td>\n",
       "      <td>[group, warn, bfar, law, enforc, fund]</td>\n",
       "    </tr>\n",
       "    <tr>\n",
       "      <th>4</th>\n",
       "      <td>Solon asks Duterte for jet ski to Panatag</td>\n",
       "      <td>Credible</td>\n",
       "      <td>[solon, ask, dutert, jet, ski, panatag]</td>\n",
       "    </tr>\n",
       "    <tr>\n",
       "      <th>...</th>\n",
       "      <td>...</td>\n",
       "      <td>...</td>\n",
       "      <td>...</td>\n",
       "    </tr>\n",
       "    <tr>\n",
       "      <th>9994</th>\n",
       "      <td>Airlines to hurt from Boracay closure</td>\n",
       "      <td>Credible</td>\n",
       "      <td>[airlin, hurt, boracay, closur]</td>\n",
       "    </tr>\n",
       "    <tr>\n",
       "      <th>9995</th>\n",
       "      <td>Mining, oil investors still dumping shares</td>\n",
       "      <td>Credible</td>\n",
       "      <td>[mine, oil, investor, still, dump, share]</td>\n",
       "    </tr>\n",
       "    <tr>\n",
       "      <th>9996</th>\n",
       "      <td>Stop using plastic – DENR</td>\n",
       "      <td>Credible</td>\n",
       "      <td>[stop, use, plastic, denr]</td>\n",
       "    </tr>\n",
       "    <tr>\n",
       "      <th>9997</th>\n",
       "      <td>Trillanes in California: Thousands Of FilAms E...</td>\n",
       "      <td>Not Credible</td>\n",
       "      <td>[trillan, california, thousand, filam, expect,...</td>\n",
       "    </tr>\n",
       "    <tr>\n",
       "      <th>9998</th>\n",
       "      <td>San Beda law grad gets new PCGG post</td>\n",
       "      <td>Credible</td>\n",
       "      <td>[san, beda, law, grad, get, new, pcgg, post]</td>\n",
       "    </tr>\n",
       "  </tbody>\n",
       "</table>\n",
       "<p>9999 rows × 3 columns</p>\n",
       "</div>"
      ],
      "text/plain": [
       "                                               Headline         Label  \\\n",
       "0     PH ranks 2nd in Asia-Pacific in deaths due to ...      Credible   \n",
       "1     Aguirre, PCSO chief deny plotting to kill ‘Ato...      Credible   \n",
       "2        Duterte says charges vs ex-President will fail      Credible   \n",
       "3              Group warns BFAR on law enforcement fund      Credible   \n",
       "4             Solon asks Duterte for jet ski to Panatag      Credible   \n",
       "...                                                 ...           ...   \n",
       "9994              Airlines to hurt from Boracay closure      Credible   \n",
       "9995         Mining, oil investors still dumping shares      Credible   \n",
       "9996                          Stop using plastic – DENR      Credible   \n",
       "9997  Trillanes in California: Thousands Of FilAms E...  Not Credible   \n",
       "9998               San Beda law grad gets new PCGG post      Credible   \n",
       "\n",
       "                                             Clean Text  \n",
       "0     [ph, rank, 2nd, asiapacif, death, due, househo...  \n",
       "1     [aguirr, pcso, chief, deni, plot, kill, atong,...  \n",
       "2              [dutert, say, charg, vs, expresid, fail]  \n",
       "3                [group, warn, bfar, law, enforc, fund]  \n",
       "4               [solon, ask, dutert, jet, ski, panatag]  \n",
       "...                                                 ...  \n",
       "9994                    [airlin, hurt, boracay, closur]  \n",
       "9995          [mine, oil, investor, still, dump, share]  \n",
       "9996                         [stop, use, plastic, denr]  \n",
       "9997  [trillan, california, thousand, filam, expect,...  \n",
       "9998       [san, beda, law, grad, get, new, pcgg, post]  \n",
       "\n",
       "[9999 rows x 3 columns]"
      ]
     },
     "execution_count": 12,
     "metadata": {},
     "output_type": "execute_result"
    }
   ],
   "source": [
    "df.drop(['Content', 'Authors', 'Date', 'URL', 'Brand'], inplace = True, axis = 1)\n",
    "df = df[0:9999]\n",
    "df"
   ]
  },
  {
   "cell_type": "code",
   "execution_count": 13,
   "metadata": {
    "colab": {
     "base_uri": "https://localhost:8080/"
    },
    "executionInfo": {
     "elapsed": 276,
     "status": "ok",
     "timestamp": 1716178921721,
     "user": {
      "displayName": "Ron Cedric Geronimo",
      "userId": "17390711111477461960"
     },
     "user_tz": -480
    },
    "id": "nuZbjUuDE4Bk",
    "outputId": "ba4295bb-d710-4654-ee43-aed5177d1676"
   },
   "outputs": [
    {
     "name": "stdout",
     "output_type": "stream",
     "text": [
      "Label\n",
      "Credible        1950\n",
      "Not Credible    1050\n",
      "Name: count, dtype: int64\n",
      "Label\n",
      "Credible        4629\n",
      "Not Credible    2370\n",
      "Name: count, dtype: int64\n"
     ]
    }
   ],
   "source": [
    "#splitting testing and training data\n",
    "y = df[\"Label\"]\n",
    "x = df[\"Headline\"]\n",
    "x_train,x_test,y_train,y_test = train_test_split(x,y,test_size = 0.3, random_state=50, shuffle=True)   # 30% of data reserved for testing\n",
    "print(y_test.value_counts())\n",
    "print(y_train.value_counts())"
   ]
  },
  {
   "cell_type": "code",
   "execution_count": 14,
   "metadata": {
    "executionInfo": {
     "elapsed": 405,
     "status": "ok",
     "timestamp": 1716178925148,
     "user": {
      "displayName": "Ron Cedric Geronimo",
      "userId": "17390711111477461960"
     },
     "user_tz": -480
    },
    "id": "BG-E-QEPH0zb"
   },
   "outputs": [],
   "source": [
    "from sklearn.feature_extraction.text import TfidfTransformer\n",
    "from sklearn.feature_extraction.text import CountVectorizer"
   ]
  },
  {
   "cell_type": "code",
   "execution_count": 15,
   "metadata": {
    "executionInfo": {
     "elapsed": 255,
     "status": "ok",
     "timestamp": 1716178927978,
     "user": {
      "displayName": "Ron Cedric Geronimo",
      "userId": "17390711111477461960"
     },
     "user_tz": -480
    },
    "id": "asUZGFzoFDyF"
   },
   "outputs": [],
   "source": [
    "#feature extraction\n",
    "\n",
    "count_vect = CountVectorizer()\n",
    "\n",
    "#x_train\n",
    "count_vect.fit(x_train)\n",
    "x_train_counts = count_vect.transform(x_train)\n",
    "\n",
    "#fit only on training data\n",
    "tf_transformer = TfidfTransformer()\n",
    "tf_transformer.fit(x_train_counts)\n",
    "x_train_transformed = tf_transformer.transform(x_train_counts)\n",
    "\n",
    "#x_test\n",
    "x_test_counts = count_vect.transform(x_test)\n",
    "#tf_transformer = TfidfTransformer().fit(x_test_counts)\n",
    "x_test_transformed = tf_transformer.transform(x_test_counts)"
   ]
  },
  {
   "cell_type": "code",
   "execution_count": 16,
   "metadata": {
    "colab": {
     "base_uri": "https://localhost:8080/",
     "height": 75
    },
    "id": "dvdOcIJ3FHzb",
    "outputId": "78fb2afc-972b-4fd7-8daf-276c292ff9bc"
   },
   "outputs": [
    {
     "data": {
      "text/html": [
       "<style>#sk-container-id-1 {color: black;}#sk-container-id-1 pre{padding: 0;}#sk-container-id-1 div.sk-toggleable {background-color: white;}#sk-container-id-1 label.sk-toggleable__label {cursor: pointer;display: block;width: 100%;margin-bottom: 0;padding: 0.3em;box-sizing: border-box;text-align: center;}#sk-container-id-1 label.sk-toggleable__label-arrow:before {content: \"▸\";float: left;margin-right: 0.25em;color: #696969;}#sk-container-id-1 label.sk-toggleable__label-arrow:hover:before {color: black;}#sk-container-id-1 div.sk-estimator:hover label.sk-toggleable__label-arrow:before {color: black;}#sk-container-id-1 div.sk-toggleable__content {max-height: 0;max-width: 0;overflow: hidden;text-align: left;background-color: #f0f8ff;}#sk-container-id-1 div.sk-toggleable__content pre {margin: 0.2em;color: black;border-radius: 0.25em;background-color: #f0f8ff;}#sk-container-id-1 input.sk-toggleable__control:checked~div.sk-toggleable__content {max-height: 200px;max-width: 100%;overflow: auto;}#sk-container-id-1 input.sk-toggleable__control:checked~label.sk-toggleable__label-arrow:before {content: \"▾\";}#sk-container-id-1 div.sk-estimator input.sk-toggleable__control:checked~label.sk-toggleable__label {background-color: #d4ebff;}#sk-container-id-1 div.sk-label input.sk-toggleable__control:checked~label.sk-toggleable__label {background-color: #d4ebff;}#sk-container-id-1 input.sk-hidden--visually {border: 0;clip: rect(1px 1px 1px 1px);clip: rect(1px, 1px, 1px, 1px);height: 1px;margin: -1px;overflow: hidden;padding: 0;position: absolute;width: 1px;}#sk-container-id-1 div.sk-estimator {font-family: monospace;background-color: #f0f8ff;border: 1px dotted black;border-radius: 0.25em;box-sizing: border-box;margin-bottom: 0.5em;}#sk-container-id-1 div.sk-estimator:hover {background-color: #d4ebff;}#sk-container-id-1 div.sk-parallel-item::after {content: \"\";width: 100%;border-bottom: 1px solid gray;flex-grow: 1;}#sk-container-id-1 div.sk-label:hover label.sk-toggleable__label {background-color: #d4ebff;}#sk-container-id-1 div.sk-serial::before {content: \"\";position: absolute;border-left: 1px solid gray;box-sizing: border-box;top: 0;bottom: 0;left: 50%;z-index: 0;}#sk-container-id-1 div.sk-serial {display: flex;flex-direction: column;align-items: center;background-color: white;padding-right: 0.2em;padding-left: 0.2em;position: relative;}#sk-container-id-1 div.sk-item {position: relative;z-index: 1;}#sk-container-id-1 div.sk-parallel {display: flex;align-items: stretch;justify-content: center;background-color: white;position: relative;}#sk-container-id-1 div.sk-item::before, #sk-container-id-1 div.sk-parallel-item::before {content: \"\";position: absolute;border-left: 1px solid gray;box-sizing: border-box;top: 0;bottom: 0;left: 50%;z-index: -1;}#sk-container-id-1 div.sk-parallel-item {display: flex;flex-direction: column;z-index: 1;position: relative;background-color: white;}#sk-container-id-1 div.sk-parallel-item:first-child::after {align-self: flex-end;width: 50%;}#sk-container-id-1 div.sk-parallel-item:last-child::after {align-self: flex-start;width: 50%;}#sk-container-id-1 div.sk-parallel-item:only-child::after {width: 0;}#sk-container-id-1 div.sk-dashed-wrapped {border: 1px dashed gray;margin: 0 0.4em 0.5em 0.4em;box-sizing: border-box;padding-bottom: 0.4em;background-color: white;}#sk-container-id-1 div.sk-label label {font-family: monospace;font-weight: bold;display: inline-block;line-height: 1.2em;}#sk-container-id-1 div.sk-label-container {text-align: center;}#sk-container-id-1 div.sk-container {/* jupyter's `normalize.less` sets `[hidden] { display: none; }` but bootstrap.min.css set `[hidden] { display: none !important; }` so we also need the `!important` here to be able to override the default hidden behavior on the sphinx rendered scikit-learn.org. See: https://github.com/scikit-learn/scikit-learn/issues/21755 */display: inline-block !important;position: relative;}#sk-container-id-1 div.sk-text-repr-fallback {display: none;}</style><div id=\"sk-container-id-1\" class=\"sk-top-container\"><div class=\"sk-text-repr-fallback\"><pre>SVC(kernel=&#x27;linear&#x27;)</pre><b>In a Jupyter environment, please rerun this cell to show the HTML representation or trust the notebook. <br />On GitHub, the HTML representation is unable to render, please try loading this page with nbviewer.org.</b></div><div class=\"sk-container\" hidden><div class=\"sk-item\"><div class=\"sk-estimator sk-toggleable\"><input class=\"sk-toggleable__control sk-hidden--visually\" id=\"sk-estimator-id-1\" type=\"checkbox\" checked><label for=\"sk-estimator-id-1\" class=\"sk-toggleable__label sk-toggleable__label-arrow\">SVC</label><div class=\"sk-toggleable__content\"><pre>SVC(kernel=&#x27;linear&#x27;)</pre></div></div></div></div></div>"
      ],
      "text/plain": [
       "SVC(kernel='linear')"
      ]
     },
     "execution_count": 16,
     "metadata": {},
     "output_type": "execute_result"
    }
   ],
   "source": [
    "#making svc model\n",
    "fake_classifier = SVC(kernel='linear')\n",
    "\n",
    "#training svc model on training data\n",
    "fake_classifier.fit(x_train_transformed, y_train)"
   ]
  },
  {
   "cell_type": "code",
   "execution_count": 17,
   "metadata": {
    "id": "C3NcRvKaFarc"
   },
   "outputs": [],
   "source": [
    "#predicting testing data\n",
    "test_predictions = fake_classifier.predict(x_test_transformed)"
   ]
  },
  {
   "cell_type": "code",
   "execution_count": 18,
   "metadata": {
    "colab": {
     "base_uri": "https://localhost:8080/",
     "height": 414
    },
    "id": "I6AQbf7LLc_u",
    "outputId": "c41f40f4-407f-45e6-800d-49d2c1409919"
   },
   "outputs": [
    {
     "name": "stdout",
     "output_type": "stream",
     "text": [
      "             Label\n",
      "8152      Credible\n",
      "3187      Credible\n",
      "8966      Credible\n",
      "2855  Not Credible\n",
      "9139      Credible\n",
      "          Label\n",
      "0      Credible\n",
      "1      Credible\n",
      "2      Credible\n",
      "3  Not Credible\n",
      "4      Credible\n"
     ]
    },
    {
     "data": {
      "text/html": [
       "<div>\n",
       "<style scoped>\n",
       "    .dataframe tbody tr th:only-of-type {\n",
       "        vertical-align: middle;\n",
       "    }\n",
       "\n",
       "    .dataframe tbody tr th {\n",
       "        vertical-align: top;\n",
       "    }\n",
       "\n",
       "    .dataframe thead th {\n",
       "        text-align: right;\n",
       "    }\n",
       "</style>\n",
       "<table border=\"1\" class=\"dataframe\">\n",
       "  <thead>\n",
       "    <tr style=\"text-align: right;\">\n",
       "      <th></th>\n",
       "      <th>predictions</th>\n",
       "      <th>testingData</th>\n",
       "    </tr>\n",
       "  </thead>\n",
       "  <tbody>\n",
       "    <tr>\n",
       "      <th>0</th>\n",
       "      <td>Credible</td>\n",
       "      <td>Credible</td>\n",
       "    </tr>\n",
       "    <tr>\n",
       "      <th>1</th>\n",
       "      <td>Credible</td>\n",
       "      <td>Credible</td>\n",
       "    </tr>\n",
       "    <tr>\n",
       "      <th>2</th>\n",
       "      <td>Credible</td>\n",
       "      <td>Credible</td>\n",
       "    </tr>\n",
       "    <tr>\n",
       "      <th>3</th>\n",
       "      <td>Credible</td>\n",
       "      <td>Not Credible</td>\n",
       "    </tr>\n",
       "    <tr>\n",
       "      <th>4</th>\n",
       "      <td>Credible</td>\n",
       "      <td>Credible</td>\n",
       "    </tr>\n",
       "    <tr>\n",
       "      <th>...</th>\n",
       "      <td>...</td>\n",
       "      <td>...</td>\n",
       "    </tr>\n",
       "    <tr>\n",
       "      <th>2995</th>\n",
       "      <td>Credible</td>\n",
       "      <td>Credible</td>\n",
       "    </tr>\n",
       "    <tr>\n",
       "      <th>2996</th>\n",
       "      <td>Credible</td>\n",
       "      <td>Credible</td>\n",
       "    </tr>\n",
       "    <tr>\n",
       "      <th>2997</th>\n",
       "      <td>Not Credible</td>\n",
       "      <td>Credible</td>\n",
       "    </tr>\n",
       "    <tr>\n",
       "      <th>2998</th>\n",
       "      <td>Credible</td>\n",
       "      <td>Not Credible</td>\n",
       "    </tr>\n",
       "    <tr>\n",
       "      <th>2999</th>\n",
       "      <td>Not Credible</td>\n",
       "      <td>Not Credible</td>\n",
       "    </tr>\n",
       "  </tbody>\n",
       "</table>\n",
       "<p>3000 rows × 2 columns</p>\n",
       "</div>"
      ],
      "text/plain": [
       "       predictions   testingData\n",
       "0         Credible      Credible\n",
       "1         Credible      Credible\n",
       "2         Credible      Credible\n",
       "3         Credible  Not Credible\n",
       "4         Credible      Credible\n",
       "...            ...           ...\n",
       "2995      Credible      Credible\n",
       "2996      Credible      Credible\n",
       "2997  Not Credible      Credible\n",
       "2998      Credible  Not Credible\n",
       "2999  Not Credible  Not Credible\n",
       "\n",
       "[3000 rows x 2 columns]"
      ]
     },
     "execution_count": 18,
     "metadata": {},
     "output_type": "execute_result"
    }
   ],
   "source": [
    "#resetting index of y_testing data after train_test_split\n",
    "indexReset = pd.DataFrame(y_test)\n",
    "print(indexReset.head())\n",
    "indexReset.reset_index(inplace = True)\n",
    "indexReset = indexReset.drop('index', axis=1)\n",
    "print(indexReset.head())\n",
    "\n",
    "df1 = pd.DataFrame(test_predictions, columns = ['predictions'])\n",
    "df1['testingData'] = indexReset['Label']\n",
    "df1"
   ]
  },
  {
   "cell_type": "code",
   "execution_count": 22,
   "metadata": {
    "colab": {
     "base_uri": "https://localhost:8080/"
    },
    "id": "SYNVzisKSQKo",
    "outputId": "602479a2-1f81-439f-c5d2-41ae2294813e"
   },
   "outputs": [
    {
     "name": "stdout",
     "output_type": "stream",
     "text": [
      "0.89\n"
     ]
    }
   ],
   "source": [
    "#getting accuracy\n",
    "print(accuracy_score(df1['testingData'], df1['predictions'], normalize = True))"
   ]
  },
  {
   "cell_type": "code",
   "execution_count": 23,
   "metadata": {},
   "outputs": [],
   "source": [
    "pickle.dump(fake_classifier, open(\"fake_classifier.pkl\", \"wb\"))\n",
    "pickle.dump(count_vect, open(\"fake_vectorizer.pkl\", \"wb\"))\n",
    "pickle.dump(tf_transformer, open(\"fake_transformer.pkl\", \"wb\"))"
   ]
  },
  {
   "cell_type": "code",
   "execution_count": 24,
   "metadata": {
    "id": "3k8Z_HT1uXQF"
   },
   "outputs": [],
   "source": [
    "sampleGiven = '''New House Bill To Penalize Elected Officials Who Are Out Of Tune With The Filipino People'''"
   ]
  },
  {
   "cell_type": "code",
   "execution_count": 25,
   "metadata": {
    "colab": {
     "base_uri": "https://localhost:8080/"
    },
    "id": "fti16MoBj418",
    "outputId": "21a8ea92-b20e-44aa-fc48-02dfd032be06"
   },
   "outputs": [
    {
     "data": {
      "text/plain": [
       "array(['Not Credible'], dtype=object)"
      ]
     },
     "execution_count": 25,
     "metadata": {},
     "output_type": "execute_result"
    }
   ],
   "source": [
    "#sampleGiven = str(input(\"Enter any article: \"))\n",
    "\n",
    "sampleGiven = count_vect.transform([sampleGiven])\n",
    "#print(canyu)\n",
    "\n",
    "sampleGiven = tf_transformer.transform(sampleGiven)\n",
    "#print(canyu2)\n",
    "\n",
    "predictedSample = fake_classifier.predict(sampleGiven)\n",
    "predictedSample\n"
   ]
  },
  {
   "cell_type": "code",
   "execution_count": 26,
   "metadata": {
    "colab": {
     "base_uri": "https://localhost:8080/",
     "height": 35
    },
    "id": "gJdaOriJL4E0",
    "outputId": "aaf52239-6371-4bfc-d0a8-197bf4ee1830"
   },
   "outputs": [
    {
     "data": {
      "text/plain": [
       "'from google.colab import drive\\ndrive.mount(\\'drive\\')\\ndf1.to_csv(\\'data.csv\\')\\n!cp data.csv \"drive/My Drive/\"'"
      ]
     },
     "execution_count": 26,
     "metadata": {},
     "output_type": "execute_result"
    }
   ],
   "source": [
    "'''from google.colab import drive\n",
    "drive.mount('drive')\n",
    "df1.to_csv('data.csv')\n",
    "!cp data.csv \"drive/My Drive/\"'''"
   ]
  }
 ],
 "metadata": {
  "colab": {
   "provenance": []
  },
  "kernelspec": {
   "display_name": "Python 3 (ipykernel)",
   "language": "python",
   "name": "python3"
  },
  "language_info": {
   "codemirror_mode": {
    "name": "ipython",
    "version": 3
   },
   "file_extension": ".py",
   "mimetype": "text/x-python",
   "name": "python",
   "nbconvert_exporter": "python",
   "pygments_lexer": "ipython3",
   "version": "3.11.5"
  }
 },
 "nbformat": 4,
 "nbformat_minor": 1
}

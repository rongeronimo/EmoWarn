{
 "cells": [
  {
   "cell_type": "markdown",
   "metadata": {
    "id": "vHrZIKTFGjdk"
   },
   "source": [
    "#Link to google colab notebook\n",
    "https://colab.research.google.com/drive/1PezURxs-ZiyHiKzG0GxprplIggjYBPHC?usp=sharing"
   ]
  },
  {
   "cell_type": "markdown",
   "metadata": {
    "id": "tdwxwCsOsw2W"
   },
   "source": [
    "Importing required Libraries"
   ]
  },
  {
   "cell_type": "code",
   "execution_count": 62,
   "metadata": {
    "id": "GZXawEneiuu8"
   },
   "outputs": [],
   "source": [
    "import pandas as pd\n",
    "#import numpy as np\n",
    "from sklearn.model_selection import train_test_split\n",
    "from sklearn.metrics import confusion_matrix, accuracy_score, precision_score, recall_score, classification_report\n",
    "from sklearn.svm import SVC\n",
    "from sklearn.model_selection import train_test_split"
   ]
  },
  {
   "cell_type": "code",
   "execution_count": 63,
   "metadata": {
    "colab": {
     "base_uri": "https://localhost:8080/"
    },
    "id": "_GP3s7Sj5O0j",
    "outputId": "8575354c-fe91-44e2-b505-e37c057d1477"
   },
   "outputs": [
    {
     "name": "stderr",
     "output_type": "stream",
     "text": [
      "[nltk_data] Downloading package wordnet to\n",
      "[nltk_data]     C:\\Users\\ram_o\\AppData\\Roaming\\nltk_data...\n",
      "[nltk_data]   Package wordnet is already up-to-date!\n",
      "[nltk_data] Downloading package vader_lexicon to\n",
      "[nltk_data]     C:\\Users\\ram_o\\AppData\\Roaming\\nltk_data...\n",
      "[nltk_data]   Package vader_lexicon is already up-to-date!\n",
      "[nltk_data] Downloading package stopwords to\n",
      "[nltk_data]     C:\\Users\\ram_o\\AppData\\Roaming\\nltk_data...\n",
      "[nltk_data]   Package stopwords is already up-to-date!\n",
      "[nltk_data] Downloading package omw-1.4 to\n",
      "[nltk_data]     C:\\Users\\ram_o\\AppData\\Roaming\\nltk_data...\n",
      "[nltk_data]   Package omw-1.4 is already up-to-date!\n",
      "[nltk_data] Downloading package punkt to\n",
      "[nltk_data]     C:\\Users\\ram_o\\AppData\\Roaming\\nltk_data...\n",
      "[nltk_data]   Package punkt is already up-to-date!\n"
     ]
    }
   ],
   "source": [
    "import string\n",
    "import nltk\n",
    "from nltk import word_tokenize\n",
    "from nltk.stem import WordNetLemmatizer\n",
    "nltk.download('wordnet')\n",
    "from nltk.corpus import stopwords\n",
    "nltk.download('vader_lexicon')\n",
    "nltk.download('stopwords')\n",
    "nltk.download('omw-1.4')\n",
    "nltk.download('punkt')\n",
    "import warnings\n",
    "warnings.filterwarnings('ignore')"
   ]
  },
  {
   "cell_type": "markdown",
   "metadata": {
    "id": "JL8hu8h4suX2"
   },
   "source": [
    "Importing Dataset"
   ]
  },
  {
   "cell_type": "code",
   "execution_count": 64,
   "metadata": {
    "colab": {
     "base_uri": "https://localhost:8080/",
     "height": 1000
    },
    "id": "-a7uQ-6PpWyA",
    "outputId": "22875ae8-cdfb-4200-c114-14b42acfbdad"
   },
   "outputs": [
    {
     "data": {
      "text/html": [
       "<div>\n",
       "<style scoped>\n",
       "    .dataframe tbody tr th:only-of-type {\n",
       "        vertical-align: middle;\n",
       "    }\n",
       "\n",
       "    .dataframe tbody tr th {\n",
       "        vertical-align: top;\n",
       "    }\n",
       "\n",
       "    .dataframe thead th {\n",
       "        text-align: right;\n",
       "    }\n",
       "</style>\n",
       "<table border=\"1\" class=\"dataframe\">\n",
       "  <thead>\n",
       "    <tr style=\"text-align: right;\">\n",
       "      <th></th>\n",
       "      <th>id</th>\n",
       "      <th>headline</th>\n",
       "      <th>url</th>\n",
       "      <th>bias_horizontal</th>\n",
       "      <th>bias_vertical</th>\n",
       "      <th>country</th>\n",
       "      <th>source</th>\n",
       "      <th>dominant_emotion</th>\n",
       "      <th>intensity</th>\n",
       "      <th>cause</th>\n",
       "      <th>experiencer</th>\n",
       "      <th>target</th>\n",
       "      <th>cue</th>\n",
       "      <th>other_emotions</th>\n",
       "      <th>reader_emotions</th>\n",
       "    </tr>\n",
       "  </thead>\n",
       "  <tbody>\n",
       "    <tr>\n",
       "      <th>0</th>\n",
       "      <td>7d3fe468</td>\n",
       "      <td>Cops in One Village Have Been Convicted of 70 ...</td>\n",
       "      <td>http://tracking.feedpress.it/link/9499/12677255</td>\n",
       "      <td>-5.0</td>\n",
       "      <td>46.0</td>\n",
       "      <td>US</td>\n",
       "      <td>ProPublica</td>\n",
       "      <td>anger</td>\n",
       "      <td>medium</td>\n",
       "      <td>[[\"cops in one village have been convicted of ...</td>\n",
       "      <td>[[\"cops\"]]</td>\n",
       "      <td>[[\"cops in one village have been convicted of ...</td>\n",
       "      <td>[[\"convicted\"]]</td>\n",
       "      <td>annoyance</td>\n",
       "      <td>annoyance</td>\n",
       "    </tr>\n",
       "    <tr>\n",
       "      <th>1</th>\n",
       "      <td>86693d59</td>\n",
       "      <td>DIY penis enlargements are a 'nationwide probl...</td>\n",
       "      <td>https://www.dailymail.co.uk/news/article-69149...</td>\n",
       "      <td>13.0</td>\n",
       "      <td>19.0</td>\n",
       "      <td>UK</td>\n",
       "      <td>dailymail</td>\n",
       "      <td>negative_surprise</td>\n",
       "      <td>medium</td>\n",
       "      <td>[[\"diy penis enlargements are a 'nationwide pr...</td>\n",
       "      <td>[[\"papua new guinea\"]]</td>\n",
       "      <td>[[\"diy penis enlargements are a 'nationwide pr...</td>\n",
       "      <td>[[\"problem\"]]</td>\n",
       "      <td>negative_surprise</td>\n",
       "      <td>no_i_did_not_feel_any_emotion</td>\n",
       "    </tr>\n",
       "    <tr>\n",
       "      <th>2</th>\n",
       "      <td>0fb40e90</td>\n",
       "      <td>Dam breaking: New Epstein accuser comes forward</td>\n",
       "      <td>https://hotair.com/archives/ed-morrissey/2019/...</td>\n",
       "      <td>NaN</td>\n",
       "      <td>NaN</td>\n",
       "      <td>US</td>\n",
       "      <td>HotAir</td>\n",
       "      <td>anger</td>\n",
       "      <td>medium</td>\n",
       "      <td>[[\"new epstein accuser comes forward\"]]</td>\n",
       "      <td>[[]]</td>\n",
       "      <td>[[\"new epstein accuser comes forward\"]]</td>\n",
       "      <td>[[\"accuser\"]]</td>\n",
       "      <td>no_other_additional_emotions_are_expressed</td>\n",
       "      <td>no_i_did_not_feel_any_emotion</td>\n",
       "    </tr>\n",
       "    <tr>\n",
       "      <th>3</th>\n",
       "      <td>fa7750d6</td>\n",
       "      <td>David Beckham gets six-month driving ban for u...</td>\n",
       "      <td>https://www.theguardian.com/football/2019/may/...</td>\n",
       "      <td>-6.0</td>\n",
       "      <td>48.0</td>\n",
       "      <td>UK</td>\n",
       "      <td>TheGuardian</td>\n",
       "      <td>negative_surprise</td>\n",
       "      <td>medium</td>\n",
       "      <td>[[\"gets six-month driving ban for using phone ...</td>\n",
       "      <td>[[\"david beckham\"]]</td>\n",
       "      <td>[[\"driving ban\"]]</td>\n",
       "      <td>[[\"ban\"]]</td>\n",
       "      <td>no_other_additional_emotions_are_expressed</td>\n",
       "      <td>no_i_did_not_feel_any_emotion</td>\n",
       "    </tr>\n",
       "    <tr>\n",
       "      <th>4</th>\n",
       "      <td>695ea7a2</td>\n",
       "      <td>Dead sea turtle found with spear through head ...</td>\n",
       "      <td>https://www.foxnews.com/science/sea-turtle-spe...</td>\n",
       "      <td>27.0</td>\n",
       "      <td>20.0</td>\n",
       "      <td>US</td>\n",
       "      <td>FoxNews</td>\n",
       "      <td>sadness</td>\n",
       "      <td>medium</td>\n",
       "      <td>[[\"dead sea turtle found with spear through he...</td>\n",
       "      <td>[[\"florida national park\"]]</td>\n",
       "      <td>[[\"dead sea turtle found with spear through he...</td>\n",
       "      <td>[[\"dead\"]]</td>\n",
       "      <td>no_other_additional_emotions_are_expressed</td>\n",
       "      <td>sadness</td>\n",
       "    </tr>\n",
       "    <tr>\n",
       "      <th>...</th>\n",
       "      <td>...</td>\n",
       "      <td>...</td>\n",
       "      <td>...</td>\n",
       "      <td>...</td>\n",
       "      <td>...</td>\n",
       "      <td>...</td>\n",
       "      <td>...</td>\n",
       "      <td>...</td>\n",
       "      <td>...</td>\n",
       "      <td>...</td>\n",
       "      <td>...</td>\n",
       "      <td>...</td>\n",
       "      <td>...</td>\n",
       "      <td>...</td>\n",
       "      <td>...</td>\n",
       "    </tr>\n",
       "    <tr>\n",
       "      <th>4995</th>\n",
       "      <td>3cb09e5b</td>\n",
       "      <td>‘NOW do abortion. We’ll wait.’ Ilhan Omar doub...</td>\n",
       "      <td>https://twitchy.com/samj-3930/2019/06/16/now-d...</td>\n",
       "      <td>29.0</td>\n",
       "      <td>14.0</td>\n",
       "      <td>US</td>\n",
       "      <td>Twitchy</td>\n",
       "      <td>negative_surprise</td>\n",
       "      <td>medium</td>\n",
       "      <td>[[\"on her gun violence claim and only makes he...</td>\n",
       "      <td>[[\"ilhan omar\"]]</td>\n",
       "      <td>[[\"ilhan omar\"]]</td>\n",
       "      <td>[[\"violence\",\"doubles down\"]]</td>\n",
       "      <td>negative_surprise</td>\n",
       "      <td>no_i_did_not_feel_any_emotion</td>\n",
       "    </tr>\n",
       "    <tr>\n",
       "      <th>4996</th>\n",
       "      <td>86f400a6</td>\n",
       "      <td>‘Triad’ Thugs Use Clubs to Punish Hong Kong’s ...</td>\n",
       "      <td>https://www.thedailybeast.com/in-hong-kong-tri...</td>\n",
       "      <td>-21.0</td>\n",
       "      <td>41.0</td>\n",
       "      <td>US</td>\n",
       "      <td>dailybeast</td>\n",
       "      <td>negative_surprise</td>\n",
       "      <td>medium</td>\n",
       "      <td>[[\"‘triad’ thugs use clubs to punish hong kong...</td>\n",
       "      <td>[[]]</td>\n",
       "      <td>[[\"‘triad’ thugs use clubs to punish hong kong...</td>\n",
       "      <td>[[\"punish\"]]</td>\n",
       "      <td>no_other_additional_emotions_are_expressed</td>\n",
       "      <td>no_i_did_not_feel_any_emotion</td>\n",
       "    </tr>\n",
       "    <tr>\n",
       "      <th>4997</th>\n",
       "      <td>99ca38ca</td>\n",
       "      <td>'For real': High school football season begins...</td>\n",
       "      <td>https://www.theadvocate.com/baton_rouge/sports...</td>\n",
       "      <td>-23.0</td>\n",
       "      <td>40.0</td>\n",
       "      <td>US</td>\n",
       "      <td>TheAdvocate</td>\n",
       "      <td>positive_anticipation_including_optimism</td>\n",
       "      <td>medium</td>\n",
       "      <td>[[\"season begins this week with expectations, ...</td>\n",
       "      <td>[[\"high school football\"]]</td>\n",
       "      <td>[[\"season begins this week with expectations, ...</td>\n",
       "      <td>[[\"excitement\"]]</td>\n",
       "      <td>positive_surprise</td>\n",
       "      <td>no_i_did_not_feel_any_emotion</td>\n",
       "    </tr>\n",
       "    <tr>\n",
       "      <th>4998</th>\n",
       "      <td>f4ae5a03</td>\n",
       "      <td>100 years on: the picture that changed our vie...</td>\n",
       "      <td>https://www.theguardian.com/science/2019/may/1...</td>\n",
       "      <td>-6.0</td>\n",
       "      <td>48.0</td>\n",
       "      <td>UK</td>\n",
       "      <td>TheGuardian</td>\n",
       "      <td>positive_surprise</td>\n",
       "      <td>medium</td>\n",
       "      <td>[[\"the picture that changed our view of the un...</td>\n",
       "      <td>[[]]</td>\n",
       "      <td>[[\"the picture that changed our view of the un...</td>\n",
       "      <td>[[\"changed\"]]</td>\n",
       "      <td>annoyance</td>\n",
       "      <td>annoyance</td>\n",
       "    </tr>\n",
       "    <tr>\n",
       "      <th>4999</th>\n",
       "      <td>1445caf7</td>\n",
       "      <td>Couple infuriate officials by landing their he...</td>\n",
       "      <td>https://www.dailymail.co.uk/news/article-68582...</td>\n",
       "      <td>13.0</td>\n",
       "      <td>19.0</td>\n",
       "      <td>UK</td>\n",
       "      <td>dailymail</td>\n",
       "      <td>anger</td>\n",
       "      <td>weak</td>\n",
       "      <td>[[\"landing their helicopter in the middle of a...</td>\n",
       "      <td>[[\"officials\"]]</td>\n",
       "      <td>[[\"Couple\"]]</td>\n",
       "      <td>[[\"infuriate\"]]</td>\n",
       "      <td>annoyance</td>\n",
       "      <td>disgust</td>\n",
       "    </tr>\n",
       "  </tbody>\n",
       "</table>\n",
       "<p>5000 rows × 15 columns</p>\n",
       "</div>"
      ],
      "text/plain": [
       "            id                                           headline  \\\n",
       "0     7d3fe468  Cops in One Village Have Been Convicted of 70 ...   \n",
       "1     86693d59  DIY penis enlargements are a 'nationwide probl...   \n",
       "2     0fb40e90    Dam breaking: New Epstein accuser comes forward   \n",
       "3     fa7750d6  David Beckham gets six-month driving ban for u...   \n",
       "4     695ea7a2  Dead sea turtle found with spear through head ...   \n",
       "...        ...                                                ...   \n",
       "4995  3cb09e5b  ‘NOW do abortion. We’ll wait.’ Ilhan Omar doub...   \n",
       "4996  86f400a6  ‘Triad’ Thugs Use Clubs to Punish Hong Kong’s ...   \n",
       "4997  99ca38ca  'For real': High school football season begins...   \n",
       "4998  f4ae5a03  100 years on: the picture that changed our vie...   \n",
       "4999  1445caf7  Couple infuriate officials by landing their he...   \n",
       "\n",
       "                                                    url  bias_horizontal  \\\n",
       "0       http://tracking.feedpress.it/link/9499/12677255             -5.0   \n",
       "1     https://www.dailymail.co.uk/news/article-69149...             13.0   \n",
       "2     https://hotair.com/archives/ed-morrissey/2019/...              NaN   \n",
       "3     https://www.theguardian.com/football/2019/may/...             -6.0   \n",
       "4     https://www.foxnews.com/science/sea-turtle-spe...             27.0   \n",
       "...                                                 ...              ...   \n",
       "4995  https://twitchy.com/samj-3930/2019/06/16/now-d...             29.0   \n",
       "4996  https://www.thedailybeast.com/in-hong-kong-tri...            -21.0   \n",
       "4997  https://www.theadvocate.com/baton_rouge/sports...            -23.0   \n",
       "4998  https://www.theguardian.com/science/2019/may/1...             -6.0   \n",
       "4999  https://www.dailymail.co.uk/news/article-68582...             13.0   \n",
       "\n",
       "      bias_vertical country       source  \\\n",
       "0              46.0      US   ProPublica   \n",
       "1              19.0      UK    dailymail   \n",
       "2               NaN      US       HotAir   \n",
       "3              48.0      UK  TheGuardian   \n",
       "4              20.0      US      FoxNews   \n",
       "...             ...     ...          ...   \n",
       "4995           14.0      US      Twitchy   \n",
       "4996           41.0      US   dailybeast   \n",
       "4997           40.0      US  TheAdvocate   \n",
       "4998           48.0      UK  TheGuardian   \n",
       "4999           19.0      UK    dailymail   \n",
       "\n",
       "                              dominant_emotion intensity  \\\n",
       "0                                        anger    medium   \n",
       "1                            negative_surprise    medium   \n",
       "2                                        anger    medium   \n",
       "3                            negative_surprise    medium   \n",
       "4                                      sadness    medium   \n",
       "...                                        ...       ...   \n",
       "4995                         negative_surprise    medium   \n",
       "4996                         negative_surprise    medium   \n",
       "4997  positive_anticipation_including_optimism    medium   \n",
       "4998                         positive_surprise    medium   \n",
       "4999                                     anger      weak   \n",
       "\n",
       "                                                  cause  \\\n",
       "0     [[\"cops in one village have been convicted of ...   \n",
       "1     [[\"diy penis enlargements are a 'nationwide pr...   \n",
       "2               [[\"new epstein accuser comes forward\"]]   \n",
       "3     [[\"gets six-month driving ban for using phone ...   \n",
       "4     [[\"dead sea turtle found with spear through he...   \n",
       "...                                                 ...   \n",
       "4995  [[\"on her gun violence claim and only makes he...   \n",
       "4996  [[\"‘triad’ thugs use clubs to punish hong kong...   \n",
       "4997  [[\"season begins this week with expectations, ...   \n",
       "4998  [[\"the picture that changed our view of the un...   \n",
       "4999  [[\"landing their helicopter in the middle of a...   \n",
       "\n",
       "                      experiencer  \\\n",
       "0                      [[\"cops\"]]   \n",
       "1          [[\"papua new guinea\"]]   \n",
       "2                            [[]]   \n",
       "3             [[\"david beckham\"]]   \n",
       "4     [[\"florida national park\"]]   \n",
       "...                           ...   \n",
       "4995             [[\"ilhan omar\"]]   \n",
       "4996                         [[]]   \n",
       "4997   [[\"high school football\"]]   \n",
       "4998                         [[]]   \n",
       "4999              [[\"officials\"]]   \n",
       "\n",
       "                                                 target  \\\n",
       "0     [[\"cops in one village have been convicted of ...   \n",
       "1     [[\"diy penis enlargements are a 'nationwide pr...   \n",
       "2               [[\"new epstein accuser comes forward\"]]   \n",
       "3                                     [[\"driving ban\"]]   \n",
       "4     [[\"dead sea turtle found with spear through he...   \n",
       "...                                                 ...   \n",
       "4995                                   [[\"ilhan omar\"]]   \n",
       "4996  [[\"‘triad’ thugs use clubs to punish hong kong...   \n",
       "4997  [[\"season begins this week with expectations, ...   \n",
       "4998  [[\"the picture that changed our view of the un...   \n",
       "4999                                       [[\"Couple\"]]   \n",
       "\n",
       "                                cue  \\\n",
       "0                   [[\"convicted\"]]   \n",
       "1                     [[\"problem\"]]   \n",
       "2                     [[\"accuser\"]]   \n",
       "3                         [[\"ban\"]]   \n",
       "4                        [[\"dead\"]]   \n",
       "...                             ...   \n",
       "4995  [[\"violence\",\"doubles down\"]]   \n",
       "4996                   [[\"punish\"]]   \n",
       "4997               [[\"excitement\"]]   \n",
       "4998                  [[\"changed\"]]   \n",
       "4999                [[\"infuriate\"]]   \n",
       "\n",
       "                                  other_emotions  \\\n",
       "0                                      annoyance   \n",
       "1                              negative_surprise   \n",
       "2     no_other_additional_emotions_are_expressed   \n",
       "3     no_other_additional_emotions_are_expressed   \n",
       "4     no_other_additional_emotions_are_expressed   \n",
       "...                                          ...   \n",
       "4995                           negative_surprise   \n",
       "4996  no_other_additional_emotions_are_expressed   \n",
       "4997                           positive_surprise   \n",
       "4998                                   annoyance   \n",
       "4999                                   annoyance   \n",
       "\n",
       "                    reader_emotions  \n",
       "0                         annoyance  \n",
       "1     no_i_did_not_feel_any_emotion  \n",
       "2     no_i_did_not_feel_any_emotion  \n",
       "3     no_i_did_not_feel_any_emotion  \n",
       "4                           sadness  \n",
       "...                             ...  \n",
       "4995  no_i_did_not_feel_any_emotion  \n",
       "4996  no_i_did_not_feel_any_emotion  \n",
       "4997  no_i_did_not_feel_any_emotion  \n",
       "4998                      annoyance  \n",
       "4999                        disgust  \n",
       "\n",
       "[5000 rows x 15 columns]"
      ]
     },
     "execution_count": 64,
     "metadata": {},
     "output_type": "execute_result"
    }
   ],
   "source": [
    "df = pd.read_csv('gne-release-v1.0.tsv', sep='\\t')\n",
    "df"
   ]
  },
  {
   "cell_type": "markdown",
   "metadata": {
    "id": "2VjmoFQ3s0E6"
   },
   "source": [
    "Removing unnecessary columns"
   ]
  },
  {
   "cell_type": "code",
   "execution_count": 65,
   "metadata": {
    "colab": {
     "base_uri": "https://localhost:8080/",
     "height": 423
    },
    "id": "A77rpvUGi3Z-",
    "outputId": "70eeebe3-3866-4cea-c409-a88e2691dcfb"
   },
   "outputs": [
    {
     "data": {
      "text/html": [
       "<div>\n",
       "<style scoped>\n",
       "    .dataframe tbody tr th:only-of-type {\n",
       "        vertical-align: middle;\n",
       "    }\n",
       "\n",
       "    .dataframe tbody tr th {\n",
       "        vertical-align: top;\n",
       "    }\n",
       "\n",
       "    .dataframe thead th {\n",
       "        text-align: right;\n",
       "    }\n",
       "</style>\n",
       "<table border=\"1\" class=\"dataframe\">\n",
       "  <thead>\n",
       "    <tr style=\"text-align: right;\">\n",
       "      <th></th>\n",
       "      <th>headline</th>\n",
       "      <th>dominant_emotion</th>\n",
       "    </tr>\n",
       "  </thead>\n",
       "  <tbody>\n",
       "    <tr>\n",
       "      <th>0</th>\n",
       "      <td>Cops in One Village Have Been Convicted of 70 ...</td>\n",
       "      <td>anger</td>\n",
       "    </tr>\n",
       "    <tr>\n",
       "      <th>1</th>\n",
       "      <td>DIY penis enlargements are a 'nationwide probl...</td>\n",
       "      <td>negative_surprise</td>\n",
       "    </tr>\n",
       "    <tr>\n",
       "      <th>2</th>\n",
       "      <td>Dam breaking: New Epstein accuser comes forward</td>\n",
       "      <td>anger</td>\n",
       "    </tr>\n",
       "    <tr>\n",
       "      <th>3</th>\n",
       "      <td>David Beckham gets six-month driving ban for u...</td>\n",
       "      <td>negative_surprise</td>\n",
       "    </tr>\n",
       "    <tr>\n",
       "      <th>4</th>\n",
       "      <td>Dead sea turtle found with spear through head ...</td>\n",
       "      <td>sadness</td>\n",
       "    </tr>\n",
       "    <tr>\n",
       "      <th>...</th>\n",
       "      <td>...</td>\n",
       "      <td>...</td>\n",
       "    </tr>\n",
       "    <tr>\n",
       "      <th>4995</th>\n",
       "      <td>‘NOW do abortion. We’ll wait.’ Ilhan Omar doub...</td>\n",
       "      <td>negative_surprise</td>\n",
       "    </tr>\n",
       "    <tr>\n",
       "      <th>4996</th>\n",
       "      <td>‘Triad’ Thugs Use Clubs to Punish Hong Kong’s ...</td>\n",
       "      <td>negative_surprise</td>\n",
       "    </tr>\n",
       "    <tr>\n",
       "      <th>4997</th>\n",
       "      <td>'For real': High school football season begins...</td>\n",
       "      <td>positive_anticipation_including_optimism</td>\n",
       "    </tr>\n",
       "    <tr>\n",
       "      <th>4998</th>\n",
       "      <td>100 years on: the picture that changed our vie...</td>\n",
       "      <td>positive_surprise</td>\n",
       "    </tr>\n",
       "    <tr>\n",
       "      <th>4999</th>\n",
       "      <td>Couple infuriate officials by landing their he...</td>\n",
       "      <td>anger</td>\n",
       "    </tr>\n",
       "  </tbody>\n",
       "</table>\n",
       "<p>5000 rows × 2 columns</p>\n",
       "</div>"
      ],
      "text/plain": [
       "                                               headline  \\\n",
       "0     Cops in One Village Have Been Convicted of 70 ...   \n",
       "1     DIY penis enlargements are a 'nationwide probl...   \n",
       "2       Dam breaking: New Epstein accuser comes forward   \n",
       "3     David Beckham gets six-month driving ban for u...   \n",
       "4     Dead sea turtle found with spear through head ...   \n",
       "...                                                 ...   \n",
       "4995  ‘NOW do abortion. We’ll wait.’ Ilhan Omar doub...   \n",
       "4996  ‘Triad’ Thugs Use Clubs to Punish Hong Kong’s ...   \n",
       "4997  'For real': High school football season begins...   \n",
       "4998  100 years on: the picture that changed our vie...   \n",
       "4999  Couple infuriate officials by landing their he...   \n",
       "\n",
       "                              dominant_emotion  \n",
       "0                                        anger  \n",
       "1                            negative_surprise  \n",
       "2                                        anger  \n",
       "3                            negative_surprise  \n",
       "4                                      sadness  \n",
       "...                                        ...  \n",
       "4995                         negative_surprise  \n",
       "4996                         negative_surprise  \n",
       "4997  positive_anticipation_including_optimism  \n",
       "4998                         positive_surprise  \n",
       "4999                                     anger  \n",
       "\n",
       "[5000 rows x 2 columns]"
      ]
     },
     "execution_count": 65,
     "metadata": {},
     "output_type": "execute_result"
    }
   ],
   "source": [
    "df.drop(['id', 'url', 'country', 'source', 'cause', 'experiencer', 'target',\n",
    "         'cue', 'bias_horizontal', 'bias_vertical', 'intensity', 'other_emotions',\n",
    "         'reader_emotions'], axis = 1, inplace=True)\n",
    "df"
   ]
  },
  {
   "cell_type": "code",
   "execution_count": 66,
   "metadata": {
    "colab": {
     "base_uri": "https://localhost:8080/"
    },
    "id": "3zsrCXPQsY10",
    "outputId": "045f7d63-c1b4-4bfa-8f52-313e5d66ce38"
   },
   "outputs": [
    {
     "data": {
      "text/plain": [
       "dominant_emotion\n",
       "negative_surprise                            893\n",
       "positive_surprise                            582\n",
       "anger                                        460\n",
       "annoyance                                    426\n",
       "fear                                         419\n",
       "sadness                                      386\n",
       "disgust                                      382\n",
       "negative_anticipation_including_pessimism    323\n",
       "positive_anticipation_including_optimism     319\n",
       "joy                                          264\n",
       "guilt                                        175\n",
       "trust                                        124\n",
       "shame                                        119\n",
       "pride                                         65\n",
       "love_including_like                           63\n",
       "Name: count, dtype: int64"
      ]
     },
     "execution_count": 66,
     "metadata": {},
     "output_type": "execute_result"
    }
   ],
   "source": [
    "df.dropna(inplace=True)\n",
    "df['dominant_emotion'].value_counts()"
   ]
  },
  {
   "cell_type": "markdown",
   "metadata": {
    "id": "iQVFIJEis6R8"
   },
   "source": [
    "Removing emotions that are not included in Paul Ekman's 6 basic emotions"
   ]
  },
  {
   "cell_type": "code",
   "execution_count": 67,
   "metadata": {
    "colab": {
     "base_uri": "https://localhost:8080/",
     "height": 551
    },
    "id": "sZP7ID8wvPcH",
    "outputId": "199bedda-17e7-4819-f79a-7fa5556e512c"
   },
   "outputs": [
    {
     "name": "stdout",
     "output_type": "stream",
     "text": [
      "dominant_emotion\n",
      "anger      460\n",
      "fear       419\n",
      "sadness    386\n",
      "disgust    382\n",
      "joy        264\n",
      "Name: count, dtype: int64\n"
     ]
    },
    {
     "data": {
      "text/html": [
       "<div>\n",
       "<style scoped>\n",
       "    .dataframe tbody tr th:only-of-type {\n",
       "        vertical-align: middle;\n",
       "    }\n",
       "\n",
       "    .dataframe tbody tr th {\n",
       "        vertical-align: top;\n",
       "    }\n",
       "\n",
       "    .dataframe thead th {\n",
       "        text-align: right;\n",
       "    }\n",
       "</style>\n",
       "<table border=\"1\" class=\"dataframe\">\n",
       "  <thead>\n",
       "    <tr style=\"text-align: right;\">\n",
       "      <th></th>\n",
       "      <th>headline</th>\n",
       "      <th>dominant_emotion</th>\n",
       "    </tr>\n",
       "  </thead>\n",
       "  <tbody>\n",
       "    <tr>\n",
       "      <th>0</th>\n",
       "      <td>Cops in One Village Have Been Convicted of 70 ...</td>\n",
       "      <td>anger</td>\n",
       "    </tr>\n",
       "    <tr>\n",
       "      <th>2</th>\n",
       "      <td>Dam breaking: New Epstein accuser comes forward</td>\n",
       "      <td>anger</td>\n",
       "    </tr>\n",
       "    <tr>\n",
       "      <th>4</th>\n",
       "      <td>Dead sea turtle found with spear through head ...</td>\n",
       "      <td>sadness</td>\n",
       "    </tr>\n",
       "    <tr>\n",
       "      <th>5</th>\n",
       "      <td>Democrats defend Congresswomen Trump says shou...</td>\n",
       "      <td>disgust</td>\n",
       "    </tr>\n",
       "    <tr>\n",
       "      <th>10</th>\n",
       "      <td>Donald Trump’s ‘bizarre’ questions on George W...</td>\n",
       "      <td>disgust</td>\n",
       "    </tr>\n",
       "    <tr>\n",
       "      <th>...</th>\n",
       "      <td>...</td>\n",
       "      <td>...</td>\n",
       "    </tr>\n",
       "    <tr>\n",
       "      <th>4968</th>\n",
       "      <td>HHS Moves to Protect Religious Health Providers</td>\n",
       "      <td>fear</td>\n",
       "    </tr>\n",
       "    <tr>\n",
       "      <th>4977</th>\n",
       "      <td>New Trump Rule Permits Anti-LGBTQ Health Care ...</td>\n",
       "      <td>disgust</td>\n",
       "    </tr>\n",
       "    <tr>\n",
       "      <th>4982</th>\n",
       "      <td>Robotic Hacks: CNNers Sound Awfully Similar Ba...</td>\n",
       "      <td>disgust</td>\n",
       "    </tr>\n",
       "    <tr>\n",
       "      <th>4988</th>\n",
       "      <td>Trump administration misses census printing de...</td>\n",
       "      <td>disgust</td>\n",
       "    </tr>\n",
       "    <tr>\n",
       "      <th>4999</th>\n",
       "      <td>Couple infuriate officials by landing their he...</td>\n",
       "      <td>anger</td>\n",
       "    </tr>\n",
       "  </tbody>\n",
       "</table>\n",
       "<p>1911 rows × 2 columns</p>\n",
       "</div>"
      ],
      "text/plain": [
       "                                               headline dominant_emotion\n",
       "0     Cops in One Village Have Been Convicted of 70 ...            anger\n",
       "2       Dam breaking: New Epstein accuser comes forward            anger\n",
       "4     Dead sea turtle found with spear through head ...          sadness\n",
       "5     Democrats defend Congresswomen Trump says shou...          disgust\n",
       "10    Donald Trump’s ‘bizarre’ questions on George W...          disgust\n",
       "...                                                 ...              ...\n",
       "4968    HHS Moves to Protect Religious Health Providers             fear\n",
       "4977  New Trump Rule Permits Anti-LGBTQ Health Care ...          disgust\n",
       "4982  Robotic Hacks: CNNers Sound Awfully Similar Ba...          disgust\n",
       "4988  Trump administration misses census printing de...          disgust\n",
       "4999  Couple infuriate officials by landing their he...            anger\n",
       "\n",
       "[1911 rows x 2 columns]"
      ]
     },
     "execution_count": 67,
     "metadata": {},
     "output_type": "execute_result"
    }
   ],
   "source": [
    "#removing other dominant emotions other than ekman's basic 6 {except suprise}\n",
    "emotions_to_keep = ['anger', 'fear', 'sadness', 'disgust', 'joy']\n",
    "df_ekman = df.query('dominant_emotion in @emotions_to_keep')\n",
    "print(df_ekman['dominant_emotion'].value_counts())\n",
    "df_ekman"
   ]
  },
  {
   "cell_type": "markdown",
   "metadata": {
    "id": "nK4Vt1Ht4tY6"
   },
   "source": [
    "<h1>Data Cleaning</h1>"
   ]
  },
  {
   "cell_type": "code",
   "execution_count": 68,
   "metadata": {
    "id": "ZyBVkTxP6piQ"
   },
   "outputs": [],
   "source": [
    "df_ekman['headline'] = df_ekman['headline'].str.lower()"
   ]
  },
  {
   "cell_type": "code",
   "execution_count": 69,
   "metadata": {
    "id": "Z3fvCvnQ4sZ6"
   },
   "outputs": [],
   "source": [
    "def clean_text(headline):\n",
    "    nopunc = [w for w in headline if w not in string.punctuation]\n",
    "    nopunc = ''.join(nopunc)\n",
    "    return  ' '.join([word for word in nopunc.split() if word.lower() not in stopwords.words('english')])"
   ]
  },
  {
   "cell_type": "code",
   "execution_count": 70,
   "metadata": {
    "colab": {
     "base_uri": "https://localhost:8080/",
     "height": 36
    },
    "id": "mGRyDrpr5gAT",
    "outputId": "2f43b23c-7514-465e-d6c0-cd391b5295ad"
   },
   "outputs": [
    {
     "data": {
      "text/plain": [
       "'cops one village convicted 70 crimes here’s say'"
      ]
     },
     "execution_count": 70,
     "metadata": {},
     "output_type": "execute_result"
    }
   ],
   "source": [
    "clean_text(df_ekman['headline'][0])"
   ]
  },
  {
   "cell_type": "code",
   "execution_count": 71,
   "metadata": {
    "id": "uy2CaklY5gNx"
   },
   "outputs": [],
   "source": [
    "df_ekman['length'] = df_ekman['headline'].apply(len)"
   ]
  },
  {
   "cell_type": "code",
   "execution_count": 72,
   "metadata": {
    "colab": {
     "base_uri": "https://localhost:8080/"
    },
    "id": "pe2nnzgc5y98",
    "outputId": "460de3b8-62b3-48df-df9b-79d15795969f"
   },
   "outputs": [
    {
     "data": {
      "text/plain": [
       "('cops in one village have been convicted of 70 crimes. here’s what they had to say about it.',\n",
       " 'cops one village convicted 70 crimes here’s say')"
      ]
     },
     "execution_count": 72,
     "metadata": {},
     "output_type": "execute_result"
    }
   ],
   "source": [
    "df_ekman['headline'][0], clean_text(df_ekman['headline'][0])"
   ]
  },
  {
   "cell_type": "code",
   "execution_count": 73,
   "metadata": {
    "colab": {
     "base_uri": "https://localhost:8080/"
    },
    "id": "sgOxhT6T5-FX",
    "outputId": "0ad47157-6b2b-496d-af09-7452f53844fa"
   },
   "outputs": [
    {
     "data": {
      "text/plain": [
       "0       cops one village convicted 70 crimes here’s say\n",
       "2        dam breaking new epstein accuser comes forward\n",
       "4     dead sea turtle found spear head florida natio...\n",
       "5     democrats defend congresswomen trump says “go ...\n",
       "10    donald trump’s ‘bizarre’ questions george wash...\n",
       "Name: headline, dtype: object"
      ]
     },
     "execution_count": 73,
     "metadata": {},
     "output_type": "execute_result"
    }
   ],
   "source": [
    "df_ekman['headline'].head().apply(clean_text)"
   ]
  },
  {
   "cell_type": "code",
   "execution_count": 74,
   "metadata": {
    "id": "3mAYUt-z6BFp"
   },
   "outputs": [],
   "source": [
    "df_ekman['headline'] = df_ekman['headline'].astype(str)"
   ]
  },
  {
   "cell_type": "code",
   "execution_count": 75,
   "metadata": {
    "id": "QSwzDowh6He3"
   },
   "outputs": [],
   "source": [
    "def preprocess(headline):\n",
    "    return ' '.join([word for word in word_tokenize(headline) if word not in stopwords.words('english') and not word.isdigit() and word not in string.punctuation])"
   ]
  },
  {
   "cell_type": "code",
   "execution_count": 76,
   "metadata": {
    "colab": {
     "base_uri": "https://localhost:8080/",
     "height": 36
    },
    "id": "_qQ-VAOK6QaU",
    "outputId": "ef8937e1-8b6a-4fbd-9072-8db38e99edfd"
   },
   "outputs": [
    {
     "data": {
      "text/plain": [
       "'cops one village convicted crimes ’ say'"
      ]
     },
     "execution_count": 76,
     "metadata": {},
     "output_type": "execute_result"
    }
   ],
   "source": [
    "preprocess(df_ekman['headline'][0])"
   ]
  },
  {
   "cell_type": "code",
   "execution_count": 77,
   "metadata": {
    "id": "IgCQMZac6iis"
   },
   "outputs": [],
   "source": [
    "df_ekman['headline'] = df_ekman['headline'].apply(preprocess)"
   ]
  },
  {
   "cell_type": "code",
   "execution_count": 78,
   "metadata": {
    "id": "HZZF_MC86w3P"
   },
   "outputs": [],
   "source": [
    "lemmatizer = WordNetLemmatizer()\n",
    "def lemmatize_words(headline):\n",
    "    return ' '.join([lemmatizer.lemmatize(word) for word in headline.split()])\n",
    "df_ekman[\"headline\"] = df_ekman[\"headline\"].apply(lambda headline: lemmatize_words(headline))"
   ]
  },
  {
   "cell_type": "markdown",
   "metadata": {
    "id": "kOhNUWhn900F"
   },
   "source": [
    "#Data Splitting\n",
    "For Training and Testing/Validation data"
   ]
  },
  {
   "cell_type": "code",
   "execution_count": 79,
   "metadata": {
    "colab": {
     "base_uri": "https://localhost:8080/"
    },
    "id": "dwABfDdr90GL",
    "outputId": "b73db6f8-e592-4d5d-f0d5-e4c803fe1e81"
   },
   "outputs": [
    {
     "name": "stdout",
     "output_type": "stream",
     "text": [
      "2594    un human right chief condemns saudi arabia ’ e...\n",
      "1464    letter family murder victim need sustained sup...\n",
      "387     celebration nipsey hussle 's life take place l...\n",
      "4105    nurse dy trying save another woman drowning st...\n",
      "2171     panic war iran info operation preserve iran deal\n",
      "Name: headline, dtype: object\n"
     ]
    }
   ],
   "source": [
    "#Splitting Dataset\n",
    "x = df_ekman['headline']\n",
    "y = df_ekman['dominant_emotion']\n",
    "x_train, x_test, y_train, y_test = train_test_split(x, y, test_size = 0.3, random_state=0)  # 30% of data reserved for testing\n",
    "print(x_train.head())"
   ]
  },
  {
   "cell_type": "markdown",
   "metadata": {
    "id": "Pw1ZJkJyy5XR"
   },
   "source": [
    "##Feature Extraction"
   ]
  },
  {
   "cell_type": "code",
   "execution_count": 80,
   "metadata": {
    "id": "BG-E-QEPH0zb"
   },
   "outputs": [],
   "source": [
    "from sklearn.feature_extraction.text import TfidfTransformer\n",
    "from sklearn.feature_extraction.text import CountVectorizer"
   ]
  },
  {
   "cell_type": "code",
   "execution_count": 81,
   "metadata": {
    "id": "bOr6qqknKWOe"
   },
   "outputs": [],
   "source": [
    "#feature extraction using tf-idf\n",
    "\n",
    "#instantiation of CountVectorizer and TfidfTransformer\n",
    "count_vect = CountVectorizer()\n",
    "tf_transformer = TfidfTransformer()\n",
    "\n",
    "#x_train uses fit_transform(); fit will only be done on training data\n",
    "x_train_extract = count_vect.fit_transform(x_train)\n",
    "x_train_extract = tf_transformer.fit_transform(x_train_extract)\n",
    "\n",
    "#x_test; only transform () will be done on testing data\n",
    "x_test_extract = count_vect.transform(x_test)\n",
    "x_test_extract = tf_transformer.transform(x_test_extract)"
   ]
  },
  {
   "cell_type": "markdown",
   "metadata": {
    "id": "BSZ00hgr7x-P"
   },
   "source": [
    "#Gridsearch tuning"
   ]
  },
  {
   "cell_type": "code",
   "execution_count": 87,
   "metadata": {
    "id": "q6i_wgAI74hq"
   },
   "outputs": [],
   "source": [
    "from sklearn.model_selection import GridSearchCV"
   ]
  },
  {
   "cell_type": "code",
   "execution_count": 88,
   "metadata": {
    "colab": {
     "base_uri": "https://localhost:8080/"
    },
    "id": "ks57u8jc7w-Q",
    "outputId": "76bf9bbd-8988-41e4-b067-4a2d5797bd65"
   },
   "outputs": [
    {
     "name": "stdout",
     "output_type": "stream",
     "text": [
      "Fitting 5 folds for each of 6 candidates, totalling 30 fits\n",
      "{'C': 1, 'kernel': 'linear'}\n",
      "              precision    recall  f1-score   support\n",
      "\n",
      "       anger       0.40      0.56      0.47       143\n",
      "     disgust       0.34      0.33      0.33       105\n",
      "        fear       0.43      0.46      0.45       119\n",
      "         joy       0.63      0.28      0.38        87\n",
      "     sadness       0.50      0.44      0.47       120\n",
      "\n",
      "    accuracy                           0.43       574\n",
      "   macro avg       0.46      0.41      0.42       574\n",
      "weighted avg       0.45      0.43      0.43       574\n",
      "\n",
      "0.43031358885017423\n"
     ]
    }
   ],
   "source": [
    "# defining parameter range\n",
    "param_grid = {'C': [0.1, 1, 2, 3, 4, 5],\n",
    "              'kernel': ['linear']}\n",
    "\n",
    "grid = GridSearchCV(SVC(), param_grid, refit = True, verbose = 3,n_jobs=-1)\n",
    "\n",
    "# fitting the model for grid search\n",
    "grid.fit(x_train_extract, y_train)\n",
    "\n",
    "# print best parameter after tuning\n",
    "print(grid.best_params_)\n",
    "grid_predictions = grid.predict(x_test_extract)\n",
    "\n",
    "# print classification report\n",
    "print(classification_report(y_test, grid_predictions))\n",
    "print(accuracy_score(y_test, grid_predictions))"
   ]
  },
  {
   "cell_type": "markdown",
   "metadata": {
    "id": "awfCtkxEMoZL"
   },
   "source": [
    "#Model Training"
   ]
  },
  {
   "cell_type": "code",
   "execution_count": 89,
   "metadata": {
    "colab": {
     "base_uri": "https://localhost:8080/",
     "height": 74
    },
    "id": "dvdOcIJ3FHzb",
    "outputId": "a6f7bac5-9fc3-4923-d2e3-297da0d4429f"
   },
   "outputs": [
    {
     "data": {
      "text/html": [
       "<style>#sk-container-id-5 {color: black;}#sk-container-id-5 pre{padding: 0;}#sk-container-id-5 div.sk-toggleable {background-color: white;}#sk-container-id-5 label.sk-toggleable__label {cursor: pointer;display: block;width: 100%;margin-bottom: 0;padding: 0.3em;box-sizing: border-box;text-align: center;}#sk-container-id-5 label.sk-toggleable__label-arrow:before {content: \"▸\";float: left;margin-right: 0.25em;color: #696969;}#sk-container-id-5 label.sk-toggleable__label-arrow:hover:before {color: black;}#sk-container-id-5 div.sk-estimator:hover label.sk-toggleable__label-arrow:before {color: black;}#sk-container-id-5 div.sk-toggleable__content {max-height: 0;max-width: 0;overflow: hidden;text-align: left;background-color: #f0f8ff;}#sk-container-id-5 div.sk-toggleable__content pre {margin: 0.2em;color: black;border-radius: 0.25em;background-color: #f0f8ff;}#sk-container-id-5 input.sk-toggleable__control:checked~div.sk-toggleable__content {max-height: 200px;max-width: 100%;overflow: auto;}#sk-container-id-5 input.sk-toggleable__control:checked~label.sk-toggleable__label-arrow:before {content: \"▾\";}#sk-container-id-5 div.sk-estimator input.sk-toggleable__control:checked~label.sk-toggleable__label {background-color: #d4ebff;}#sk-container-id-5 div.sk-label input.sk-toggleable__control:checked~label.sk-toggleable__label {background-color: #d4ebff;}#sk-container-id-5 input.sk-hidden--visually {border: 0;clip: rect(1px 1px 1px 1px);clip: rect(1px, 1px, 1px, 1px);height: 1px;margin: -1px;overflow: hidden;padding: 0;position: absolute;width: 1px;}#sk-container-id-5 div.sk-estimator {font-family: monospace;background-color: #f0f8ff;border: 1px dotted black;border-radius: 0.25em;box-sizing: border-box;margin-bottom: 0.5em;}#sk-container-id-5 div.sk-estimator:hover {background-color: #d4ebff;}#sk-container-id-5 div.sk-parallel-item::after {content: \"\";width: 100%;border-bottom: 1px solid gray;flex-grow: 1;}#sk-container-id-5 div.sk-label:hover label.sk-toggleable__label {background-color: #d4ebff;}#sk-container-id-5 div.sk-serial::before {content: \"\";position: absolute;border-left: 1px solid gray;box-sizing: border-box;top: 0;bottom: 0;left: 50%;z-index: 0;}#sk-container-id-5 div.sk-serial {display: flex;flex-direction: column;align-items: center;background-color: white;padding-right: 0.2em;padding-left: 0.2em;position: relative;}#sk-container-id-5 div.sk-item {position: relative;z-index: 1;}#sk-container-id-5 div.sk-parallel {display: flex;align-items: stretch;justify-content: center;background-color: white;position: relative;}#sk-container-id-5 div.sk-item::before, #sk-container-id-5 div.sk-parallel-item::before {content: \"\";position: absolute;border-left: 1px solid gray;box-sizing: border-box;top: 0;bottom: 0;left: 50%;z-index: -1;}#sk-container-id-5 div.sk-parallel-item {display: flex;flex-direction: column;z-index: 1;position: relative;background-color: white;}#sk-container-id-5 div.sk-parallel-item:first-child::after {align-self: flex-end;width: 50%;}#sk-container-id-5 div.sk-parallel-item:last-child::after {align-self: flex-start;width: 50%;}#sk-container-id-5 div.sk-parallel-item:only-child::after {width: 0;}#sk-container-id-5 div.sk-dashed-wrapped {border: 1px dashed gray;margin: 0 0.4em 0.5em 0.4em;box-sizing: border-box;padding-bottom: 0.4em;background-color: white;}#sk-container-id-5 div.sk-label label {font-family: monospace;font-weight: bold;display: inline-block;line-height: 1.2em;}#sk-container-id-5 div.sk-label-container {text-align: center;}#sk-container-id-5 div.sk-container {/* jupyter's `normalize.less` sets `[hidden] { display: none; }` but bootstrap.min.css set `[hidden] { display: none !important; }` so we also need the `!important` here to be able to override the default hidden behavior on the sphinx rendered scikit-learn.org. See: https://github.com/scikit-learn/scikit-learn/issues/21755 */display: inline-block !important;position: relative;}#sk-container-id-5 div.sk-text-repr-fallback {display: none;}</style><div id=\"sk-container-id-5\" class=\"sk-top-container\"><div class=\"sk-text-repr-fallback\"><pre>SVC(kernel=&#x27;linear&#x27;)</pre><b>In a Jupyter environment, please rerun this cell to show the HTML representation or trust the notebook. <br />On GitHub, the HTML representation is unable to render, please try loading this page with nbviewer.org.</b></div><div class=\"sk-container\" hidden><div class=\"sk-item\"><div class=\"sk-estimator sk-toggleable\"><input class=\"sk-toggleable__control sk-hidden--visually\" id=\"sk-estimator-id-5\" type=\"checkbox\" checked><label for=\"sk-estimator-id-5\" class=\"sk-toggleable__label sk-toggleable__label-arrow\">SVC</label><div class=\"sk-toggleable__content\"><pre>SVC(kernel=&#x27;linear&#x27;)</pre></div></div></div></div></div>"
      ],
      "text/plain": [
       "SVC(kernel='linear')"
      ]
     },
     "execution_count": 89,
     "metadata": {},
     "output_type": "execute_result"
    }
   ],
   "source": [
    "#making linearsvc model\n",
    "svc = SVC(kernel = 'linear')\n",
    "\n",
    "#training linearsvc model on training data\n",
    "svc.fit(x_train_extract, y_train)"
   ]
  },
  {
   "cell_type": "markdown",
   "metadata": {
    "id": "q1t5OfYDyWam"
   },
   "source": [
    "#Testing Model Performance On Overall Dataset"
   ]
  },
  {
   "cell_type": "code",
   "execution_count": 90,
   "metadata": {
    "colab": {
     "base_uri": "https://localhost:8080/"
    },
    "id": "AAUWg68jBGY2",
    "outputId": "07a6ef27-14de-4cba-e384-9a20014e5bfc"
   },
   "outputs": [
    {
     "name": "stdout",
     "output_type": "stream",
     "text": [
      "Accuracy:  0.43031358885017423\n"
     ]
    }
   ],
   "source": [
    "#predicting testing data split\n",
    "test_predictions = svc.predict(x_test_extract)\n",
    "\n",
    "#getting accuracy\n",
    "print(\"Accuracy: \", accuracy_score(y_test, test_predictions, normalize = True))"
   ]
  },
  {
   "cell_type": "code",
   "execution_count": 91,
   "metadata": {
    "colab": {
     "base_uri": "https://localhost:8080/"
    },
    "id": "INJcQ8xyZwBf",
    "outputId": "ace9b33e-01ef-4987-d73b-3e41ad43e86f"
   },
   "outputs": [
    {
     "name": "stdout",
     "output_type": "stream",
     "text": [
      "['fear']\n"
     ]
    }
   ],
   "source": [
    "input = \"Pagasa: Dagupan, Aparri to bear 47 °C heat index Friday\"\n",
    "\n",
    "input = count_vect.transform([input])\n",
    "input = tf_transformer.transform(input)\n",
    "\n",
    "test2 = svc.predict(input)\n",
    "print(test2)\n"
   ]
  }
 ],
 "metadata": {
  "colab": {
   "provenance": []
  },
  "kernelspec": {
   "display_name": "Python 3 (ipykernel)",
   "language": "python",
   "name": "python3"
  },
  "language_info": {
   "codemirror_mode": {
    "name": "ipython",
    "version": 3
   },
   "file_extension": ".py",
   "mimetype": "text/x-python",
   "name": "python",
   "nbconvert_exporter": "python",
   "pygments_lexer": "ipython3",
   "version": "3.11.5"
  }
 },
 "nbformat": 4,
 "nbformat_minor": 1
}

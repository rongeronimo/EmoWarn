{
 "cells": [
  {
   "cell_type": "markdown",
   "metadata": {
    "id": "vHrZIKTFGjdk"
   },
   "source": [
    "#Link to google colab notebook\n",
    "https://colab.research.google.com/drive/1PezURxs-ZiyHiKzG0GxprplIggjYBPHC?usp=sharing"
   ]
  },
  {
   "cell_type": "markdown",
   "metadata": {
    "id": "tdwxwCsOsw2W"
   },
   "source": [
    "Importing required Libraries"
   ]
  },
  {
   "cell_type": "code",
   "execution_count": 74,
   "metadata": {
    "id": "GZXawEneiuu8"
   },
   "outputs": [],
   "source": [
    "import pandas as pd\n",
    "#import numpy as np\n",
    "from sklearn.model_selection import train_test_split\n",
    "from sklearn.metrics import confusion_matrix, accuracy_score, precision_score, recall_score, classification_report\n",
    "from sklearn.svm import SVC\n",
    "from sklearn.model_selection import train_test_split\n",
    "#import nltk\n",
    "import nltk\n",
    "from nltk.stem import WordNetLemmatizer\n",
    "from nltk.stem.porter import PorterStemmer\n",
    "from nltk.corpus import stopwords\n",
    "from nltk.tokenize import word_tokenize\n",
    "lm = nltk.WordNetLemmatizer()\n",
    "stemmer = PorterStemmer()\n",
    "#import regex\n",
    "import re\n",
    "import pickle"
   ]
  },
  {
   "cell_type": "markdown",
   "metadata": {
    "id": "JL8hu8h4suX2"
   },
   "source": [
    "Importing Dataset"
   ]
  },
  {
   "cell_type": "code",
   "execution_count": 75,
   "metadata": {
    "colab": {
     "base_uri": "https://localhost:8080/",
     "height": 1000
    },
    "id": "-a7uQ-6PpWyA",
    "outputId": "597fdc26-0983-4b4c-ea54-4361caf82e52"
   },
   "outputs": [
    {
     "data": {
      "text/html": [
       "<div>\n",
       "<style scoped>\n",
       "    .dataframe tbody tr th:only-of-type {\n",
       "        vertical-align: middle;\n",
       "    }\n",
       "\n",
       "    .dataframe tbody tr th {\n",
       "        vertical-align: top;\n",
       "    }\n",
       "\n",
       "    .dataframe thead th {\n",
       "        text-align: right;\n",
       "    }\n",
       "</style>\n",
       "<table border=\"1\" class=\"dataframe\">\n",
       "  <thead>\n",
       "    <tr style=\"text-align: right;\">\n",
       "      <th></th>\n",
       "      <th>id</th>\n",
       "      <th>headline</th>\n",
       "      <th>url</th>\n",
       "      <th>bias_horizontal</th>\n",
       "      <th>bias_vertical</th>\n",
       "      <th>country</th>\n",
       "      <th>source</th>\n",
       "      <th>dominant_emotion</th>\n",
       "      <th>intensity</th>\n",
       "      <th>cause</th>\n",
       "      <th>experiencer</th>\n",
       "      <th>target</th>\n",
       "      <th>cue</th>\n",
       "      <th>other_emotions</th>\n",
       "      <th>reader_emotions</th>\n",
       "    </tr>\n",
       "  </thead>\n",
       "  <tbody>\n",
       "    <tr>\n",
       "      <th>0</th>\n",
       "      <td>7d3fe468</td>\n",
       "      <td>Cops in One Village Have Been Convicted of 70 ...</td>\n",
       "      <td>http://tracking.feedpress.it/link/9499/12677255</td>\n",
       "      <td>-5.0</td>\n",
       "      <td>46.0</td>\n",
       "      <td>US</td>\n",
       "      <td>ProPublica</td>\n",
       "      <td>anger</td>\n",
       "      <td>medium</td>\n",
       "      <td>[[\"cops in one village have been convicted of ...</td>\n",
       "      <td>[[\"cops\"]]</td>\n",
       "      <td>[[\"cops in one village have been convicted of ...</td>\n",
       "      <td>[[\"convicted\"]]</td>\n",
       "      <td>annoyance</td>\n",
       "      <td>annoyance</td>\n",
       "    </tr>\n",
       "    <tr>\n",
       "      <th>1</th>\n",
       "      <td>86693d59</td>\n",
       "      <td>DIY penis enlargements are a 'nationwide probl...</td>\n",
       "      <td>https://www.dailymail.co.uk/news/article-69149...</td>\n",
       "      <td>13.0</td>\n",
       "      <td>19.0</td>\n",
       "      <td>UK</td>\n",
       "      <td>dailymail</td>\n",
       "      <td>negative_surprise</td>\n",
       "      <td>medium</td>\n",
       "      <td>[[\"diy penis enlargements are a 'nationwide pr...</td>\n",
       "      <td>[[\"papua new guinea\"]]</td>\n",
       "      <td>[[\"diy penis enlargements are a 'nationwide pr...</td>\n",
       "      <td>[[\"problem\"]]</td>\n",
       "      <td>negative_surprise</td>\n",
       "      <td>no_i_did_not_feel_any_emotion</td>\n",
       "    </tr>\n",
       "    <tr>\n",
       "      <th>2</th>\n",
       "      <td>0fb40e90</td>\n",
       "      <td>Dam breaking: New Epstein accuser comes forward</td>\n",
       "      <td>https://hotair.com/archives/ed-morrissey/2019/...</td>\n",
       "      <td>NaN</td>\n",
       "      <td>NaN</td>\n",
       "      <td>US</td>\n",
       "      <td>HotAir</td>\n",
       "      <td>anger</td>\n",
       "      <td>medium</td>\n",
       "      <td>[[\"new epstein accuser comes forward\"]]</td>\n",
       "      <td>[[]]</td>\n",
       "      <td>[[\"new epstein accuser comes forward\"]]</td>\n",
       "      <td>[[\"accuser\"]]</td>\n",
       "      <td>no_other_additional_emotions_are_expressed</td>\n",
       "      <td>no_i_did_not_feel_any_emotion</td>\n",
       "    </tr>\n",
       "    <tr>\n",
       "      <th>3</th>\n",
       "      <td>fa7750d6</td>\n",
       "      <td>David Beckham gets six-month driving ban for u...</td>\n",
       "      <td>https://www.theguardian.com/football/2019/may/...</td>\n",
       "      <td>-6.0</td>\n",
       "      <td>48.0</td>\n",
       "      <td>UK</td>\n",
       "      <td>TheGuardian</td>\n",
       "      <td>negative_surprise</td>\n",
       "      <td>medium</td>\n",
       "      <td>[[\"gets six-month driving ban for using phone ...</td>\n",
       "      <td>[[\"david beckham\"]]</td>\n",
       "      <td>[[\"driving ban\"]]</td>\n",
       "      <td>[[\"ban\"]]</td>\n",
       "      <td>no_other_additional_emotions_are_expressed</td>\n",
       "      <td>no_i_did_not_feel_any_emotion</td>\n",
       "    </tr>\n",
       "    <tr>\n",
       "      <th>4</th>\n",
       "      <td>695ea7a2</td>\n",
       "      <td>Dead sea turtle found with spear through head ...</td>\n",
       "      <td>https://www.foxnews.com/science/sea-turtle-spe...</td>\n",
       "      <td>27.0</td>\n",
       "      <td>20.0</td>\n",
       "      <td>US</td>\n",
       "      <td>FoxNews</td>\n",
       "      <td>sadness</td>\n",
       "      <td>medium</td>\n",
       "      <td>[[\"dead sea turtle found with spear through he...</td>\n",
       "      <td>[[\"florida national park\"]]</td>\n",
       "      <td>[[\"dead sea turtle found with spear through he...</td>\n",
       "      <td>[[\"dead\"]]</td>\n",
       "      <td>no_other_additional_emotions_are_expressed</td>\n",
       "      <td>sadness</td>\n",
       "    </tr>\n",
       "    <tr>\n",
       "      <th>...</th>\n",
       "      <td>...</td>\n",
       "      <td>...</td>\n",
       "      <td>...</td>\n",
       "      <td>...</td>\n",
       "      <td>...</td>\n",
       "      <td>...</td>\n",
       "      <td>...</td>\n",
       "      <td>...</td>\n",
       "      <td>...</td>\n",
       "      <td>...</td>\n",
       "      <td>...</td>\n",
       "      <td>...</td>\n",
       "      <td>...</td>\n",
       "      <td>...</td>\n",
       "      <td>...</td>\n",
       "    </tr>\n",
       "    <tr>\n",
       "      <th>4995</th>\n",
       "      <td>3cb09e5b</td>\n",
       "      <td>‘NOW do abortion. We’ll wait.’ Ilhan Omar doub...</td>\n",
       "      <td>https://twitchy.com/samj-3930/2019/06/16/now-d...</td>\n",
       "      <td>29.0</td>\n",
       "      <td>14.0</td>\n",
       "      <td>US</td>\n",
       "      <td>Twitchy</td>\n",
       "      <td>negative_surprise</td>\n",
       "      <td>medium</td>\n",
       "      <td>[[\"on her gun violence claim and only makes he...</td>\n",
       "      <td>[[\"ilhan omar\"]]</td>\n",
       "      <td>[[\"ilhan omar\"]]</td>\n",
       "      <td>[[\"violence\",\"doubles down\"]]</td>\n",
       "      <td>negative_surprise</td>\n",
       "      <td>no_i_did_not_feel_any_emotion</td>\n",
       "    </tr>\n",
       "    <tr>\n",
       "      <th>4996</th>\n",
       "      <td>86f400a6</td>\n",
       "      <td>‘Triad’ Thugs Use Clubs to Punish Hong Kong’s ...</td>\n",
       "      <td>https://www.thedailybeast.com/in-hong-kong-tri...</td>\n",
       "      <td>-21.0</td>\n",
       "      <td>41.0</td>\n",
       "      <td>US</td>\n",
       "      <td>dailybeast</td>\n",
       "      <td>negative_surprise</td>\n",
       "      <td>medium</td>\n",
       "      <td>[[\"‘triad’ thugs use clubs to punish hong kong...</td>\n",
       "      <td>[[]]</td>\n",
       "      <td>[[\"‘triad’ thugs use clubs to punish hong kong...</td>\n",
       "      <td>[[\"punish\"]]</td>\n",
       "      <td>no_other_additional_emotions_are_expressed</td>\n",
       "      <td>no_i_did_not_feel_any_emotion</td>\n",
       "    </tr>\n",
       "    <tr>\n",
       "      <th>4997</th>\n",
       "      <td>99ca38ca</td>\n",
       "      <td>'For real': High school football season begins...</td>\n",
       "      <td>https://www.theadvocate.com/baton_rouge/sports...</td>\n",
       "      <td>-23.0</td>\n",
       "      <td>40.0</td>\n",
       "      <td>US</td>\n",
       "      <td>TheAdvocate</td>\n",
       "      <td>positive_anticipation_including_optimism</td>\n",
       "      <td>medium</td>\n",
       "      <td>[[\"season begins this week with expectations, ...</td>\n",
       "      <td>[[\"high school football\"]]</td>\n",
       "      <td>[[\"season begins this week with expectations, ...</td>\n",
       "      <td>[[\"excitement\"]]</td>\n",
       "      <td>positive_surprise</td>\n",
       "      <td>no_i_did_not_feel_any_emotion</td>\n",
       "    </tr>\n",
       "    <tr>\n",
       "      <th>4998</th>\n",
       "      <td>f4ae5a03</td>\n",
       "      <td>100 years on: the picture that changed our vie...</td>\n",
       "      <td>https://www.theguardian.com/science/2019/may/1...</td>\n",
       "      <td>-6.0</td>\n",
       "      <td>48.0</td>\n",
       "      <td>UK</td>\n",
       "      <td>TheGuardian</td>\n",
       "      <td>positive_surprise</td>\n",
       "      <td>medium</td>\n",
       "      <td>[[\"the picture that changed our view of the un...</td>\n",
       "      <td>[[]]</td>\n",
       "      <td>[[\"the picture that changed our view of the un...</td>\n",
       "      <td>[[\"changed\"]]</td>\n",
       "      <td>annoyance</td>\n",
       "      <td>annoyance</td>\n",
       "    </tr>\n",
       "    <tr>\n",
       "      <th>4999</th>\n",
       "      <td>1445caf7</td>\n",
       "      <td>Couple infuriate officials by landing their he...</td>\n",
       "      <td>https://www.dailymail.co.uk/news/article-68582...</td>\n",
       "      <td>13.0</td>\n",
       "      <td>19.0</td>\n",
       "      <td>UK</td>\n",
       "      <td>dailymail</td>\n",
       "      <td>anger</td>\n",
       "      <td>weak</td>\n",
       "      <td>[[\"landing their helicopter in the middle of a...</td>\n",
       "      <td>[[\"officials\"]]</td>\n",
       "      <td>[[\"Couple\"]]</td>\n",
       "      <td>[[\"infuriate\"]]</td>\n",
       "      <td>annoyance</td>\n",
       "      <td>disgust</td>\n",
       "    </tr>\n",
       "  </tbody>\n",
       "</table>\n",
       "<p>5000 rows × 15 columns</p>\n",
       "</div>"
      ],
      "text/plain": [
       "            id                                           headline  \\\n",
       "0     7d3fe468  Cops in One Village Have Been Convicted of 70 ...   \n",
       "1     86693d59  DIY penis enlargements are a 'nationwide probl...   \n",
       "2     0fb40e90    Dam breaking: New Epstein accuser comes forward   \n",
       "3     fa7750d6  David Beckham gets six-month driving ban for u...   \n",
       "4     695ea7a2  Dead sea turtle found with spear through head ...   \n",
       "...        ...                                                ...   \n",
       "4995  3cb09e5b  ‘NOW do abortion. We’ll wait.’ Ilhan Omar doub...   \n",
       "4996  86f400a6  ‘Triad’ Thugs Use Clubs to Punish Hong Kong’s ...   \n",
       "4997  99ca38ca  'For real': High school football season begins...   \n",
       "4998  f4ae5a03  100 years on: the picture that changed our vie...   \n",
       "4999  1445caf7  Couple infuriate officials by landing their he...   \n",
       "\n",
       "                                                    url  bias_horizontal  \\\n",
       "0       http://tracking.feedpress.it/link/9499/12677255             -5.0   \n",
       "1     https://www.dailymail.co.uk/news/article-69149...             13.0   \n",
       "2     https://hotair.com/archives/ed-morrissey/2019/...              NaN   \n",
       "3     https://www.theguardian.com/football/2019/may/...             -6.0   \n",
       "4     https://www.foxnews.com/science/sea-turtle-spe...             27.0   \n",
       "...                                                 ...              ...   \n",
       "4995  https://twitchy.com/samj-3930/2019/06/16/now-d...             29.0   \n",
       "4996  https://www.thedailybeast.com/in-hong-kong-tri...            -21.0   \n",
       "4997  https://www.theadvocate.com/baton_rouge/sports...            -23.0   \n",
       "4998  https://www.theguardian.com/science/2019/may/1...             -6.0   \n",
       "4999  https://www.dailymail.co.uk/news/article-68582...             13.0   \n",
       "\n",
       "      bias_vertical country       source  \\\n",
       "0              46.0      US   ProPublica   \n",
       "1              19.0      UK    dailymail   \n",
       "2               NaN      US       HotAir   \n",
       "3              48.0      UK  TheGuardian   \n",
       "4              20.0      US      FoxNews   \n",
       "...             ...     ...          ...   \n",
       "4995           14.0      US      Twitchy   \n",
       "4996           41.0      US   dailybeast   \n",
       "4997           40.0      US  TheAdvocate   \n",
       "4998           48.0      UK  TheGuardian   \n",
       "4999           19.0      UK    dailymail   \n",
       "\n",
       "                              dominant_emotion intensity  \\\n",
       "0                                        anger    medium   \n",
       "1                            negative_surprise    medium   \n",
       "2                                        anger    medium   \n",
       "3                            negative_surprise    medium   \n",
       "4                                      sadness    medium   \n",
       "...                                        ...       ...   \n",
       "4995                         negative_surprise    medium   \n",
       "4996                         negative_surprise    medium   \n",
       "4997  positive_anticipation_including_optimism    medium   \n",
       "4998                         positive_surprise    medium   \n",
       "4999                                     anger      weak   \n",
       "\n",
       "                                                  cause  \\\n",
       "0     [[\"cops in one village have been convicted of ...   \n",
       "1     [[\"diy penis enlargements are a 'nationwide pr...   \n",
       "2               [[\"new epstein accuser comes forward\"]]   \n",
       "3     [[\"gets six-month driving ban for using phone ...   \n",
       "4     [[\"dead sea turtle found with spear through he...   \n",
       "...                                                 ...   \n",
       "4995  [[\"on her gun violence claim and only makes he...   \n",
       "4996  [[\"‘triad’ thugs use clubs to punish hong kong...   \n",
       "4997  [[\"season begins this week with expectations, ...   \n",
       "4998  [[\"the picture that changed our view of the un...   \n",
       "4999  [[\"landing their helicopter in the middle of a...   \n",
       "\n",
       "                      experiencer  \\\n",
       "0                      [[\"cops\"]]   \n",
       "1          [[\"papua new guinea\"]]   \n",
       "2                            [[]]   \n",
       "3             [[\"david beckham\"]]   \n",
       "4     [[\"florida national park\"]]   \n",
       "...                           ...   \n",
       "4995             [[\"ilhan omar\"]]   \n",
       "4996                         [[]]   \n",
       "4997   [[\"high school football\"]]   \n",
       "4998                         [[]]   \n",
       "4999              [[\"officials\"]]   \n",
       "\n",
       "                                                 target  \\\n",
       "0     [[\"cops in one village have been convicted of ...   \n",
       "1     [[\"diy penis enlargements are a 'nationwide pr...   \n",
       "2               [[\"new epstein accuser comes forward\"]]   \n",
       "3                                     [[\"driving ban\"]]   \n",
       "4     [[\"dead sea turtle found with spear through he...   \n",
       "...                                                 ...   \n",
       "4995                                   [[\"ilhan omar\"]]   \n",
       "4996  [[\"‘triad’ thugs use clubs to punish hong kong...   \n",
       "4997  [[\"season begins this week with expectations, ...   \n",
       "4998  [[\"the picture that changed our view of the un...   \n",
       "4999                                       [[\"Couple\"]]   \n",
       "\n",
       "                                cue  \\\n",
       "0                   [[\"convicted\"]]   \n",
       "1                     [[\"problem\"]]   \n",
       "2                     [[\"accuser\"]]   \n",
       "3                         [[\"ban\"]]   \n",
       "4                        [[\"dead\"]]   \n",
       "...                             ...   \n",
       "4995  [[\"violence\",\"doubles down\"]]   \n",
       "4996                   [[\"punish\"]]   \n",
       "4997               [[\"excitement\"]]   \n",
       "4998                  [[\"changed\"]]   \n",
       "4999                [[\"infuriate\"]]   \n",
       "\n",
       "                                  other_emotions  \\\n",
       "0                                      annoyance   \n",
       "1                              negative_surprise   \n",
       "2     no_other_additional_emotions_are_expressed   \n",
       "3     no_other_additional_emotions_are_expressed   \n",
       "4     no_other_additional_emotions_are_expressed   \n",
       "...                                          ...   \n",
       "4995                           negative_surprise   \n",
       "4996  no_other_additional_emotions_are_expressed   \n",
       "4997                           positive_surprise   \n",
       "4998                                   annoyance   \n",
       "4999                                   annoyance   \n",
       "\n",
       "                    reader_emotions  \n",
       "0                         annoyance  \n",
       "1     no_i_did_not_feel_any_emotion  \n",
       "2     no_i_did_not_feel_any_emotion  \n",
       "3     no_i_did_not_feel_any_emotion  \n",
       "4                           sadness  \n",
       "...                             ...  \n",
       "4995  no_i_did_not_feel_any_emotion  \n",
       "4996  no_i_did_not_feel_any_emotion  \n",
       "4997  no_i_did_not_feel_any_emotion  \n",
       "4998                      annoyance  \n",
       "4999                        disgust  \n",
       "\n",
       "[5000 rows x 15 columns]"
      ]
     },
     "execution_count": 75,
     "metadata": {},
     "output_type": "execute_result"
    }
   ],
   "source": [
    "df = pd.read_csv('gne-release-v1.0.tsv', sep='\\t')\n",
    "df"
   ]
  },
  {
   "cell_type": "markdown",
   "metadata": {
    "id": "2VjmoFQ3s0E6"
   },
   "source": [
    "Removing unnecessary columns"
   ]
  },
  {
   "cell_type": "code",
   "execution_count": 76,
   "metadata": {
    "colab": {
     "base_uri": "https://localhost:8080/",
     "height": 424
    },
    "id": "A77rpvUGi3Z-",
    "outputId": "af325b67-9267-432c-e01b-9a8a327edd4a"
   },
   "outputs": [
    {
     "data": {
      "text/html": [
       "<div>\n",
       "<style scoped>\n",
       "    .dataframe tbody tr th:only-of-type {\n",
       "        vertical-align: middle;\n",
       "    }\n",
       "\n",
       "    .dataframe tbody tr th {\n",
       "        vertical-align: top;\n",
       "    }\n",
       "\n",
       "    .dataframe thead th {\n",
       "        text-align: right;\n",
       "    }\n",
       "</style>\n",
       "<table border=\"1\" class=\"dataframe\">\n",
       "  <thead>\n",
       "    <tr style=\"text-align: right;\">\n",
       "      <th></th>\n",
       "      <th>headline</th>\n",
       "      <th>dominant_emotion</th>\n",
       "    </tr>\n",
       "  </thead>\n",
       "  <tbody>\n",
       "    <tr>\n",
       "      <th>0</th>\n",
       "      <td>Cops in One Village Have Been Convicted of 70 ...</td>\n",
       "      <td>anger</td>\n",
       "    </tr>\n",
       "    <tr>\n",
       "      <th>1</th>\n",
       "      <td>DIY penis enlargements are a 'nationwide probl...</td>\n",
       "      <td>negative_surprise</td>\n",
       "    </tr>\n",
       "    <tr>\n",
       "      <th>2</th>\n",
       "      <td>Dam breaking: New Epstein accuser comes forward</td>\n",
       "      <td>anger</td>\n",
       "    </tr>\n",
       "    <tr>\n",
       "      <th>3</th>\n",
       "      <td>David Beckham gets six-month driving ban for u...</td>\n",
       "      <td>negative_surprise</td>\n",
       "    </tr>\n",
       "    <tr>\n",
       "      <th>4</th>\n",
       "      <td>Dead sea turtle found with spear through head ...</td>\n",
       "      <td>sadness</td>\n",
       "    </tr>\n",
       "    <tr>\n",
       "      <th>...</th>\n",
       "      <td>...</td>\n",
       "      <td>...</td>\n",
       "    </tr>\n",
       "    <tr>\n",
       "      <th>4995</th>\n",
       "      <td>‘NOW do abortion. We’ll wait.’ Ilhan Omar doub...</td>\n",
       "      <td>negative_surprise</td>\n",
       "    </tr>\n",
       "    <tr>\n",
       "      <th>4996</th>\n",
       "      <td>‘Triad’ Thugs Use Clubs to Punish Hong Kong’s ...</td>\n",
       "      <td>negative_surprise</td>\n",
       "    </tr>\n",
       "    <tr>\n",
       "      <th>4997</th>\n",
       "      <td>'For real': High school football season begins...</td>\n",
       "      <td>positive_anticipation_including_optimism</td>\n",
       "    </tr>\n",
       "    <tr>\n",
       "      <th>4998</th>\n",
       "      <td>100 years on: the picture that changed our vie...</td>\n",
       "      <td>positive_surprise</td>\n",
       "    </tr>\n",
       "    <tr>\n",
       "      <th>4999</th>\n",
       "      <td>Couple infuriate officials by landing their he...</td>\n",
       "      <td>anger</td>\n",
       "    </tr>\n",
       "  </tbody>\n",
       "</table>\n",
       "<p>5000 rows × 2 columns</p>\n",
       "</div>"
      ],
      "text/plain": [
       "                                               headline  \\\n",
       "0     Cops in One Village Have Been Convicted of 70 ...   \n",
       "1     DIY penis enlargements are a 'nationwide probl...   \n",
       "2       Dam breaking: New Epstein accuser comes forward   \n",
       "3     David Beckham gets six-month driving ban for u...   \n",
       "4     Dead sea turtle found with spear through head ...   \n",
       "...                                                 ...   \n",
       "4995  ‘NOW do abortion. We’ll wait.’ Ilhan Omar doub...   \n",
       "4996  ‘Triad’ Thugs Use Clubs to Punish Hong Kong’s ...   \n",
       "4997  'For real': High school football season begins...   \n",
       "4998  100 years on: the picture that changed our vie...   \n",
       "4999  Couple infuriate officials by landing their he...   \n",
       "\n",
       "                              dominant_emotion  \n",
       "0                                        anger  \n",
       "1                            negative_surprise  \n",
       "2                                        anger  \n",
       "3                            negative_surprise  \n",
       "4                                      sadness  \n",
       "...                                        ...  \n",
       "4995                         negative_surprise  \n",
       "4996                         negative_surprise  \n",
       "4997  positive_anticipation_including_optimism  \n",
       "4998                         positive_surprise  \n",
       "4999                                     anger  \n",
       "\n",
       "[5000 rows x 2 columns]"
      ]
     },
     "execution_count": 76,
     "metadata": {},
     "output_type": "execute_result"
    }
   ],
   "source": [
    "df.drop(['id', 'url', 'country', 'source', 'cause', 'experiencer', 'target',\n",
    "         'cue', 'bias_horizontal', 'bias_vertical', 'intensity', 'other_emotions',\n",
    "         'reader_emotions'], axis = 1, inplace=True)\n",
    "df"
   ]
  },
  {
   "cell_type": "code",
   "execution_count": 77,
   "metadata": {
    "colab": {
     "base_uri": "https://localhost:8080/"
    },
    "id": "3zsrCXPQsY10",
    "outputId": "7baa7746-b414-4f90-ec53-1cdaacfed9d4"
   },
   "outputs": [
    {
     "data": {
      "text/plain": [
       "dominant_emotion\n",
       "negative_surprise                            893\n",
       "positive_surprise                            582\n",
       "anger                                        460\n",
       "annoyance                                    426\n",
       "fear                                         419\n",
       "sadness                                      386\n",
       "disgust                                      382\n",
       "negative_anticipation_including_pessimism    323\n",
       "positive_anticipation_including_optimism     319\n",
       "joy                                          264\n",
       "guilt                                        175\n",
       "trust                                        124\n",
       "shame                                        119\n",
       "pride                                         65\n",
       "love_including_like                           63\n",
       "Name: count, dtype: int64"
      ]
     },
     "execution_count": 77,
     "metadata": {},
     "output_type": "execute_result"
    }
   ],
   "source": [
    "df.dropna(inplace=True)\n",
    "df['dominant_emotion'].value_counts()"
   ]
  },
  {
   "cell_type": "markdown",
   "metadata": {
    "id": "iQVFIJEis6R8"
   },
   "source": [
    "Removing emotions that are not included in Paul Ekman's 6 basic emotions"
   ]
  },
  {
   "cell_type": "code",
   "execution_count": 78,
   "metadata": {
    "colab": {
     "base_uri": "https://localhost:8080/",
     "height": 545
    },
    "id": "sZP7ID8wvPcH",
    "outputId": "86d2230e-ff5b-46b7-8104-a8499c896529"
   },
   "outputs": [
    {
     "name": "stdout",
     "output_type": "stream",
     "text": [
      "dominant_emotion\n",
      "anger      460\n",
      "fear       419\n",
      "sadness    386\n",
      "disgust    382\n",
      "joy        264\n",
      "Name: count, dtype: int64\n"
     ]
    },
    {
     "data": {
      "text/html": [
       "<div>\n",
       "<style scoped>\n",
       "    .dataframe tbody tr th:only-of-type {\n",
       "        vertical-align: middle;\n",
       "    }\n",
       "\n",
       "    .dataframe tbody tr th {\n",
       "        vertical-align: top;\n",
       "    }\n",
       "\n",
       "    .dataframe thead th {\n",
       "        text-align: right;\n",
       "    }\n",
       "</style>\n",
       "<table border=\"1\" class=\"dataframe\">\n",
       "  <thead>\n",
       "    <tr style=\"text-align: right;\">\n",
       "      <th></th>\n",
       "      <th>headline</th>\n",
       "      <th>dominant_emotion</th>\n",
       "    </tr>\n",
       "  </thead>\n",
       "  <tbody>\n",
       "    <tr>\n",
       "      <th>0</th>\n",
       "      <td>Cops in One Village Have Been Convicted of 70 ...</td>\n",
       "      <td>anger</td>\n",
       "    </tr>\n",
       "    <tr>\n",
       "      <th>2</th>\n",
       "      <td>Dam breaking: New Epstein accuser comes forward</td>\n",
       "      <td>anger</td>\n",
       "    </tr>\n",
       "    <tr>\n",
       "      <th>4</th>\n",
       "      <td>Dead sea turtle found with spear through head ...</td>\n",
       "      <td>sadness</td>\n",
       "    </tr>\n",
       "    <tr>\n",
       "      <th>5</th>\n",
       "      <td>Democrats defend Congresswomen Trump says shou...</td>\n",
       "      <td>disgust</td>\n",
       "    </tr>\n",
       "    <tr>\n",
       "      <th>10</th>\n",
       "      <td>Donald Trump’s ‘bizarre’ questions on George W...</td>\n",
       "      <td>disgust</td>\n",
       "    </tr>\n",
       "    <tr>\n",
       "      <th>...</th>\n",
       "      <td>...</td>\n",
       "      <td>...</td>\n",
       "    </tr>\n",
       "    <tr>\n",
       "      <th>4968</th>\n",
       "      <td>HHS Moves to Protect Religious Health Providers</td>\n",
       "      <td>fear</td>\n",
       "    </tr>\n",
       "    <tr>\n",
       "      <th>4977</th>\n",
       "      <td>New Trump Rule Permits Anti-LGBTQ Health Care ...</td>\n",
       "      <td>disgust</td>\n",
       "    </tr>\n",
       "    <tr>\n",
       "      <th>4982</th>\n",
       "      <td>Robotic Hacks: CNNers Sound Awfully Similar Ba...</td>\n",
       "      <td>disgust</td>\n",
       "    </tr>\n",
       "    <tr>\n",
       "      <th>4988</th>\n",
       "      <td>Trump administration misses census printing de...</td>\n",
       "      <td>disgust</td>\n",
       "    </tr>\n",
       "    <tr>\n",
       "      <th>4999</th>\n",
       "      <td>Couple infuriate officials by landing their he...</td>\n",
       "      <td>anger</td>\n",
       "    </tr>\n",
       "  </tbody>\n",
       "</table>\n",
       "<p>1911 rows × 2 columns</p>\n",
       "</div>"
      ],
      "text/plain": [
       "                                               headline dominant_emotion\n",
       "0     Cops in One Village Have Been Convicted of 70 ...            anger\n",
       "2       Dam breaking: New Epstein accuser comes forward            anger\n",
       "4     Dead sea turtle found with spear through head ...          sadness\n",
       "5     Democrats defend Congresswomen Trump says shou...          disgust\n",
       "10    Donald Trump’s ‘bizarre’ questions on George W...          disgust\n",
       "...                                                 ...              ...\n",
       "4968    HHS Moves to Protect Religious Health Providers             fear\n",
       "4977  New Trump Rule Permits Anti-LGBTQ Health Care ...          disgust\n",
       "4982  Robotic Hacks: CNNers Sound Awfully Similar Ba...          disgust\n",
       "4988  Trump administration misses census printing de...          disgust\n",
       "4999  Couple infuriate officials by landing their he...            anger\n",
       "\n",
       "[1911 rows x 2 columns]"
      ]
     },
     "execution_count": 78,
     "metadata": {},
     "output_type": "execute_result"
    }
   ],
   "source": [
    "#removing other dominant emotions other than ekman's basic 6 {except suprise}\n",
    "emotions_to_keep = ['anger', 'fear', 'sadness', 'disgust', 'joy']\n",
    "df_ekman = df.query('dominant_emotion in @emotions_to_keep')\n",
    "print(df_ekman['dominant_emotion'].value_counts())\n",
    "df_ekman"
   ]
  },
  {
   "cell_type": "code",
   "execution_count": 79,
   "metadata": {},
   "outputs": [],
   "source": [
    "def lower_case(text):\n",
    "\n",
    "    text = text.lower()\n",
    "\n",
    "    return text\n",
    "\n",
    "def stop_words(text):\n",
    "\n",
    "    stop_words = set(stopwords.words('english'))\n",
    "    tokens = word_tokenize(text)\n",
    "    text = ' '.join([word for word in tokens if word.lower() not in stop_words])\n",
    "\n",
    "    return text\n",
    "\n",
    "def special_text(text):\n",
    "\n",
    "    text = re.sub(r'[^\\w\\s]', '', text)\n",
    "\n",
    "    return text\n",
    "\n",
    "def preprocess_text(text):\n",
    "\n",
    "    text = lower_case(text)\n",
    "    text = stop_words(text)\n",
    "    text = special_text(text)\n",
    "\n",
    "\n",
    "    return text\n",
    "\n",
    "def lemmatizer_on_text(data):\n",
    "\n",
    "    text = [lm.lemmatize(word) for word in data]\n",
    "\n",
    "    return data\n",
    "\n",
    "def stem_words(text):\n",
    "    word_tokens = text.split()\n",
    "    stems = [stemmer.stem(word) for word in word_tokens]\n",
    "    return stems\n",
    "\n"
   ]
  },
  {
   "cell_type": "code",
   "execution_count": 80,
   "metadata": {},
   "outputs": [
    {
     "name": "stderr",
     "output_type": "stream",
     "text": [
      "C:\\Users\\ram_o\\AppData\\Local\\Temp\\ipykernel_288\\4105497122.py:1: SettingWithCopyWarning: \n",
      "A value is trying to be set on a copy of a slice from a DataFrame.\n",
      "Try using .loc[row_indexer,col_indexer] = value instead\n",
      "\n",
      "See the caveats in the documentation: https://pandas.pydata.org/pandas-docs/stable/user_guide/indexing.html#returning-a-view-versus-a-copy\n",
      "  df_ekman['Clean Text'] = df_ekman['headline'].apply(preprocess_text)\n"
     ]
    }
   ],
   "source": [
    "df_ekman['Clean Text'] = df_ekman['headline'].apply(preprocess_text)\n",
    "#df_ekman['Clean Text'] = df_ekman['Clean Text'].apply(lambda x: lemmatizer_on_text(x))\n",
    "#df_ekman['Clean Text'] = df_ekman['Clean Text'].apply(lambda x: stem_words(x))"
   ]
  },
  {
   "cell_type": "markdown",
   "metadata": {
    "id": "kOhNUWhn900F"
   },
   "source": [
    "#Data Splitting\n",
    "For Training and Testing/Validation data"
   ]
  },
  {
   "cell_type": "code",
   "execution_count": 81,
   "metadata": {
    "colab": {
     "base_uri": "https://localhost:8080/"
    },
    "id": "dwABfDdr90GL",
    "outputId": "c18a2d7a-aa5c-4f15-ad04-ffa716fbcb6f"
   },
   "outputs": [
    {
     "name": "stdout",
     "output_type": "stream",
     "text": [
      "2594    UN Human Rights Chief Condemns Saudi Arabia’s ...\n",
      "1464    Letters: Families of murder victims need susta...\n",
      "387     A Celebration Of Nipsey Hussle's Life Takes Pl...\n",
      "4105    Nurse, 49, dies trying to save another woman f...\n",
      "2171    Panic Over War With Iran Is An Info Operation ...\n",
      "Name: headline, dtype: object\n"
     ]
    }
   ],
   "source": [
    "#Splitting Dataset\n",
    "x = df_ekman['headline']\n",
    "y = df_ekman['dominant_emotion']\n",
    "x_train, x_test, y_train, y_test = train_test_split(x, y, test_size = 0.3, random_state=0)  # 30% of data reserved for testing\n",
    "print(x_train.head())"
   ]
  },
  {
   "cell_type": "markdown",
   "metadata": {
    "id": "Pw1ZJkJyy5XR"
   },
   "source": [
    "##Feature Extraction"
   ]
  },
  {
   "cell_type": "code",
   "execution_count": 82,
   "metadata": {
    "id": "BG-E-QEPH0zb"
   },
   "outputs": [],
   "source": [
    "from sklearn.feature_extraction.text import TfidfTransformer\n",
    "from sklearn.feature_extraction.text import CountVectorizer"
   ]
  },
  {
   "cell_type": "code",
   "execution_count": 83,
   "metadata": {
    "id": "bOr6qqknKWOe"
   },
   "outputs": [],
   "source": [
    "#feature extraction using tf-idf\n",
    "\n",
    "#instantiation of CountVectorizer and TfidfTransformer\n",
    "count_vect = CountVectorizer()\n",
    "tf_transformer = TfidfTransformer()\n",
    "\n",
    "#x_train uses fit_transform(); fit will only be done on training data\n",
    "x_train_extract = count_vect.fit_transform(x_train)\n",
    "x_train_extract = tf_transformer.fit_transform(x_train_extract)\n",
    "\n",
    "#x_test; only transform () will be done on testing data\n",
    "x_test_extract = count_vect.transform(x_test)\n",
    "x_test_extract = tf_transformer.transform(x_test_extract)"
   ]
  },
  {
   "cell_type": "markdown",
   "metadata": {
    "id": "BSZ00hgr7x-P"
   },
   "source": [
    "#Gridsearch tuning"
   ]
  },
  {
   "cell_type": "code",
   "execution_count": 84,
   "metadata": {
    "id": "q6i_wgAI74hq"
   },
   "outputs": [],
   "source": [
    "from sklearn.model_selection import GridSearchCV"
   ]
  },
  {
   "cell_type": "code",
   "execution_count": 85,
   "metadata": {
    "colab": {
     "base_uri": "https://localhost:8080/"
    },
    "id": "ks57u8jc7w-Q",
    "outputId": "fc0eabb6-da64-4f56-83d3-459e516a2d99"
   },
   "outputs": [
    {
     "name": "stdout",
     "output_type": "stream",
     "text": [
      "Fitting 5 folds for each of 6 candidates, totalling 30 fits\n",
      "{'C': 3, 'kernel': 'linear'}\n",
      "              precision    recall  f1-score   support\n",
      "\n",
      "       anger       0.38      0.45      0.42       143\n",
      "     disgust       0.32      0.34      0.33       105\n",
      "        fear       0.42      0.43      0.42       119\n",
      "         joy       0.58      0.36      0.44        87\n",
      "     sadness       0.45      0.43      0.44       120\n",
      "\n",
      "    accuracy                           0.41       574\n",
      "   macro avg       0.43      0.40      0.41       574\n",
      "weighted avg       0.42      0.41      0.41       574\n",
      "\n"
     ]
    }
   ],
   "source": [
    "# defining parameter range\n",
    "param_grid = {'C': [0.1, 1, 2, 3, 4, 5],\n",
    "              'kernel': ['linear']}\n",
    "\n",
    "grid = GridSearchCV(SVC(), param_grid, refit = True, verbose = 3,n_jobs=-1)\n",
    "\n",
    "# fitting the model for grid search\n",
    "grid.fit(x_train_extract, y_train)\n",
    "\n",
    "# print best parameter after tuning\n",
    "print(grid.best_params_)\n",
    "grid_predictions = grid.predict(x_test_extract)\n",
    "\n",
    "# print classification report\n",
    "print(classification_report(y_test, grid_predictions))"
   ]
  },
  {
   "cell_type": "markdown",
   "metadata": {
    "id": "awfCtkxEMoZL"
   },
   "source": [
    "#Model Training"
   ]
  },
  {
   "cell_type": "code",
   "execution_count": 86,
   "metadata": {
    "colab": {
     "base_uri": "https://localhost:8080/",
     "height": 75
    },
    "id": "dvdOcIJ3FHzb",
    "outputId": "0dc893df-d6a7-43d5-f315-6105eb28df98"
   },
   "outputs": [
    {
     "data": {
      "text/html": [
       "<style>#sk-container-id-6 {color: black;}#sk-container-id-6 pre{padding: 0;}#sk-container-id-6 div.sk-toggleable {background-color: white;}#sk-container-id-6 label.sk-toggleable__label {cursor: pointer;display: block;width: 100%;margin-bottom: 0;padding: 0.3em;box-sizing: border-box;text-align: center;}#sk-container-id-6 label.sk-toggleable__label-arrow:before {content: \"▸\";float: left;margin-right: 0.25em;color: #696969;}#sk-container-id-6 label.sk-toggleable__label-arrow:hover:before {color: black;}#sk-container-id-6 div.sk-estimator:hover label.sk-toggleable__label-arrow:before {color: black;}#sk-container-id-6 div.sk-toggleable__content {max-height: 0;max-width: 0;overflow: hidden;text-align: left;background-color: #f0f8ff;}#sk-container-id-6 div.sk-toggleable__content pre {margin: 0.2em;color: black;border-radius: 0.25em;background-color: #f0f8ff;}#sk-container-id-6 input.sk-toggleable__control:checked~div.sk-toggleable__content {max-height: 200px;max-width: 100%;overflow: auto;}#sk-container-id-6 input.sk-toggleable__control:checked~label.sk-toggleable__label-arrow:before {content: \"▾\";}#sk-container-id-6 div.sk-estimator input.sk-toggleable__control:checked~label.sk-toggleable__label {background-color: #d4ebff;}#sk-container-id-6 div.sk-label input.sk-toggleable__control:checked~label.sk-toggleable__label {background-color: #d4ebff;}#sk-container-id-6 input.sk-hidden--visually {border: 0;clip: rect(1px 1px 1px 1px);clip: rect(1px, 1px, 1px, 1px);height: 1px;margin: -1px;overflow: hidden;padding: 0;position: absolute;width: 1px;}#sk-container-id-6 div.sk-estimator {font-family: monospace;background-color: #f0f8ff;border: 1px dotted black;border-radius: 0.25em;box-sizing: border-box;margin-bottom: 0.5em;}#sk-container-id-6 div.sk-estimator:hover {background-color: #d4ebff;}#sk-container-id-6 div.sk-parallel-item::after {content: \"\";width: 100%;border-bottom: 1px solid gray;flex-grow: 1;}#sk-container-id-6 div.sk-label:hover label.sk-toggleable__label {background-color: #d4ebff;}#sk-container-id-6 div.sk-serial::before {content: \"\";position: absolute;border-left: 1px solid gray;box-sizing: border-box;top: 0;bottom: 0;left: 50%;z-index: 0;}#sk-container-id-6 div.sk-serial {display: flex;flex-direction: column;align-items: center;background-color: white;padding-right: 0.2em;padding-left: 0.2em;position: relative;}#sk-container-id-6 div.sk-item {position: relative;z-index: 1;}#sk-container-id-6 div.sk-parallel {display: flex;align-items: stretch;justify-content: center;background-color: white;position: relative;}#sk-container-id-6 div.sk-item::before, #sk-container-id-6 div.sk-parallel-item::before {content: \"\";position: absolute;border-left: 1px solid gray;box-sizing: border-box;top: 0;bottom: 0;left: 50%;z-index: -1;}#sk-container-id-6 div.sk-parallel-item {display: flex;flex-direction: column;z-index: 1;position: relative;background-color: white;}#sk-container-id-6 div.sk-parallel-item:first-child::after {align-self: flex-end;width: 50%;}#sk-container-id-6 div.sk-parallel-item:last-child::after {align-self: flex-start;width: 50%;}#sk-container-id-6 div.sk-parallel-item:only-child::after {width: 0;}#sk-container-id-6 div.sk-dashed-wrapped {border: 1px dashed gray;margin: 0 0.4em 0.5em 0.4em;box-sizing: border-box;padding-bottom: 0.4em;background-color: white;}#sk-container-id-6 div.sk-label label {font-family: monospace;font-weight: bold;display: inline-block;line-height: 1.2em;}#sk-container-id-6 div.sk-label-container {text-align: center;}#sk-container-id-6 div.sk-container {/* jupyter's `normalize.less` sets `[hidden] { display: none; }` but bootstrap.min.css set `[hidden] { display: none !important; }` so we also need the `!important` here to be able to override the default hidden behavior on the sphinx rendered scikit-learn.org. See: https://github.com/scikit-learn/scikit-learn/issues/21755 */display: inline-block !important;position: relative;}#sk-container-id-6 div.sk-text-repr-fallback {display: none;}</style><div id=\"sk-container-id-6\" class=\"sk-top-container\"><div class=\"sk-text-repr-fallback\"><pre>SVC(kernel=&#x27;linear&#x27;)</pre><b>In a Jupyter environment, please rerun this cell to show the HTML representation or trust the notebook. <br />On GitHub, the HTML representation is unable to render, please try loading this page with nbviewer.org.</b></div><div class=\"sk-container\" hidden><div class=\"sk-item\"><div class=\"sk-estimator sk-toggleable\"><input class=\"sk-toggleable__control sk-hidden--visually\" id=\"sk-estimator-id-6\" type=\"checkbox\" checked><label for=\"sk-estimator-id-6\" class=\"sk-toggleable__label sk-toggleable__label-arrow\">SVC</label><div class=\"sk-toggleable__content\"><pre>SVC(kernel=&#x27;linear&#x27;)</pre></div></div></div></div></div>"
      ],
      "text/plain": [
       "SVC(kernel='linear')"
      ]
     },
     "execution_count": 86,
     "metadata": {},
     "output_type": "execute_result"
    }
   ],
   "source": [
    "#making linearsvc model\n",
    "svc = SVC(kernel = 'linear')\n",
    "\n",
    "#training linearsvc model on training data\n",
    "svc.fit(x_train_extract, y_train)"
   ]
  },
  {
   "cell_type": "markdown",
   "metadata": {
    "id": "q1t5OfYDyWam"
   },
   "source": [
    "#Testing Model Performance On Overall Dataset"
   ]
  },
  {
   "cell_type": "code",
   "execution_count": 72,
   "metadata": {
    "colab": {
     "base_uri": "https://localhost:8080/"
    },
    "id": "AAUWg68jBGY2",
    "outputId": "83d22959-822b-4242-a65d-b13f26f9e61d"
   },
   "outputs": [
    {
     "name": "stdout",
     "output_type": "stream",
     "text": [
      "Accuracy:  0.41289198606271776\n"
     ]
    }
   ],
   "source": [
    "#predicting testing data split\n",
    "test_predictions = svc.predict(x_test_extract)\n",
    "\n",
    "#getting accuracy\n",
    "print(\"Accuracy: \", accuracy_score(y_test, test_predictions, normalize = True))"
   ]
  },
  {
   "cell_type": "code",
   "execution_count": 88,
   "metadata": {},
   "outputs": [],
   "source": [
    "pickle.dump(svc, open(\"emo_classifier.pkl\", \"wb\"))\n",
    "pickle.dump(count_vect, open(\"emo_vectorizer.pkl\", \"wb\"))\n",
    "pickle.dump(tf_transformer, open(\"emo_transformer.pkl\", \"wb\"))"
   ]
  },
  {
   "cell_type": "code",
   "execution_count": 73,
   "metadata": {
    "colab": {
     "base_uri": "https://localhost:8080/"
    },
    "id": "INJcQ8xyZwBf",
    "outputId": "de3eb88b-a00b-4605-ed2d-f664b1ebaf92"
   },
   "outputs": [
    {
     "name": "stdout",
     "output_type": "stream",
     "text": [
      "['fear']\n"
     ]
    }
   ],
   "source": [
    "input = \"Pagasa: Dagupan, Aparri to bear 47 °C heat index Friday\"\n",
    "\n",
    "input = count_vect.transform([input])\n",
    "input = tf_transformer.transform(input)\n",
    "\n",
    "test2 = svc.predict(input)\n",
    "print(test2)\n"
   ]
  }
 ],
 "metadata": {
  "colab": {
   "provenance": []
  },
  "kernelspec": {
   "display_name": "Python 3 (ipykernel)",
   "language": "python",
   "name": "python3"
  },
  "language_info": {
   "codemirror_mode": {
    "name": "ipython",
    "version": 3
   },
   "file_extension": ".py",
   "mimetype": "text/x-python",
   "name": "python",
   "nbconvert_exporter": "python",
   "pygments_lexer": "ipython3",
   "version": "3.11.5"
  }
 },
 "nbformat": 4,
 "nbformat_minor": 1
}
